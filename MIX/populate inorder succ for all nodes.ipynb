{
 "cells": [
  {
   "cell_type": "code",
   "execution_count": 6,
   "metadata": {},
   "outputs": [
    {
     "name": "stdout",
     "output_type": "stream",
     "text": [
      "Next of 3 is 8\n",
      "Next of 8 is 10\n",
      "Next of 10 is 12\n",
      "Next of 12 is -1\n"
     ]
    }
   ],
   "source": [
    "class Node:\n",
    "    def __init__(self,value=None):\n",
    "        self.value=value\n",
    "        self.left=None\n",
    "        self.right=None\n",
    "        self.next=None\n",
    "        \n",
    "next=None\n",
    "\n",
    "def populatenext(p):\n",
    "    global next\n",
    "    \n",
    "    if(p!=None):\n",
    "        populatenext(p.right)\n",
    "        p.next=next\n",
    "        next=p\n",
    "        populatenext(p.left)\n",
    "        \n",
    "def newnode(data):\n",
    "    node=Node()\n",
    "    node.value=data\n",
    "    node.left=None\n",
    "    node.right=None\n",
    "    node.next=None\n",
    "    return(node)\n",
    "\n",
    "root = newnode(10) \n",
    "root.left = newnode(8) \n",
    "root.right = newnode(12) \n",
    "root.left.left = newnode(3) \n",
    "\n",
    "p=populatenext(root)\n",
    "\n",
    "ptr = root.left.left \n",
    "while(ptr != None): \n",
    "    out = 0\n",
    "    if(ptr.next != None): \n",
    "        out = ptr.next.value\n",
    "    else: \n",
    "        out = -1\n",
    "    print(\"Next of\", ptr.value, \"is\", out) \n",
    "    ptr = ptr.next\n",
    "  "
   ]
  },
  {
   "cell_type": "code",
   "execution_count": null,
   "metadata": {},
   "outputs": [],
   "source": []
  }
 ],
 "metadata": {
  "kernelspec": {
   "display_name": "Python 3",
   "language": "python",
   "name": "python3"
  },
  "language_info": {
   "codemirror_mode": {
    "name": "ipython",
    "version": 3
   },
   "file_extension": ".py",
   "mimetype": "text/x-python",
   "name": "python",
   "nbconvert_exporter": "python",
   "pygments_lexer": "ipython3",
   "version": "3.7.7"
  }
 },
 "nbformat": 4,
 "nbformat_minor": 4
}
