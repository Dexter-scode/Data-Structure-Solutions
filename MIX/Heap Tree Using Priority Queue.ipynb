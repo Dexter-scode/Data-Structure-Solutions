{
 "cells": [
  {
   "cell_type": "code",
   "execution_count": 44,
   "metadata": {},
   "outputs": [
    {
     "name": "stdout",
     "output_type": "stream",
     "text": [
      "[0, 1, 6, 2, 10, 7, 5, 3, 13, 12, 11, 8, 14, 9, 15, 4]\n",
      "[0, 1, 4, 2, 10, 7, 5, 3, 13, 12, 11, 8, 14, 9, 15]\n"
     ]
    }
   ],
   "source": [
    "class heap:\n",
    "    def __init__(self,data=[]):\n",
    "        self.heap=[0]+data\n",
    "    def leftchild(self,index):\n",
    "        if(2*index <len(self.heap) and index>0):\n",
    "            return(2*index)+1\n",
    "        return(-1)\n",
    "    def rightchild(self,index):\n",
    "        if(2*index+1 < len(self.heap) and index>0):\n",
    "            return(2*index+2)\n",
    "        return(-1)\n",
    "    def parent(self,index):\n",
    "        if(index>1 and index<len(self.heap)):\n",
    "            return(index//2)\n",
    "    def heapify(self,i):\n",
    "        n=len(self.heap)\n",
    "        L=self.leftchild(i)\n",
    "        R=self.rightchild(i)\n",
    "        small=i\n",
    "        if(L<n and L>0 and self.heap[L]<self.heap[i]):\n",
    "            small=L\n",
    "        if(R<n and R>0 and self.heap[R]<self.heap[small]):\n",
    "            small=R\n",
    "        if(i!=small):\n",
    "            self.heap[i],self.heap[small]=self.heap[small],self.heap[i]\n",
    "            self.heapify(small)\n",
    "    def minheap(self):\n",
    "        n=len(self.heap)\n",
    "        for i in range(n//2,0,-1):\n",
    "            self.heapify(i)\n",
    "    def minimum(self):\n",
    "        return(self.heap[1])\n",
    "    \n",
    "    def extractmin(self):\n",
    "        n=len(self.heap)\n",
    "        mini=self.heap[1]\n",
    "        self.heap[1]=self.heap[n-1]\n",
    "        self.heap.pop()\n",
    "        self.heapify(1)\n",
    "        return(mini)\n",
    "    \n",
    "    def decrease(self,index,data):\n",
    "        self.heap[index]=data\n",
    "        while(index>1 and self.heap[index] < self.heap[self.parent(index)]):\n",
    "            self.heap[self.parent(index)],self.heap[index]=self.heap[index],self.heap[self.parent(index)]\n",
    "            index=self.parent(index)\n",
    "    def increase(self,index,data):\n",
    "        self.heap[index]=data\n",
    "        self.heapify(index)\n",
    "        \n",
    "    def insert(self,data):\n",
    "        self.heap.append(data)\n",
    "        self.decrease(len(self.heap)-1,data)\n",
    "    \n",
    "    def delete(self,data):\n",
    "        i=self.heap.index(data)\n",
    "        self.heap[len(self.heap)-1],self.heap[i]=self.heap[i],self.heap[len(self.heap)-1]\n",
    "        self.heap.pop()\n",
    "        self.heapify(i)\n",
    "        \n",
    "    \n",
    "A=[15,14,13,12,11,10,9,8]\n",
    "heap=heap(A)\n",
    "heap.minheap()\n",
    "heap.insert(7)\n",
    "heap.insert(6)\n",
    "heap.insert(5)\n",
    "heap.insert(4)\n",
    "heap.insert(3)\n",
    "heap.insert(2)\n",
    "heap.insert(1)\n",
    "print(heap.heap)\n",
    "heap.delete(6)\n",
    "print(heap.heap)"
   ]
  },
  {
   "cell_type": "code",
   "execution_count": null,
   "metadata": {},
   "outputs": [],
   "source": []
  }
 ],
 "metadata": {
  "kernelspec": {
   "display_name": "Python 3",
   "language": "python",
   "name": "python3"
  },
  "language_info": {
   "codemirror_mode": {
    "name": "ipython",
    "version": 3
   },
   "file_extension": ".py",
   "mimetype": "text/x-python",
   "name": "python",
   "nbconvert_exporter": "python",
   "pygments_lexer": "ipython3",
   "version": "3.7.7"
  }
 },
 "nbformat": 4,
 "nbformat_minor": 4
}
