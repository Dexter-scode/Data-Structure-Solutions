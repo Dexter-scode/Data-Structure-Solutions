{
 "cells": [
  {
   "cell_type": "code",
   "execution_count": 12,
   "metadata": {},
   "outputs": [
    {
     "name": "stdout",
     "output_type": "stream",
     "text": [
      "5\n",
      "6\n",
      "2\n"
     ]
    }
   ],
   "source": [
    "class Node:\n",
    "    def __init__(self,value=None):\n",
    "        self.value=value\n",
    "        self.right=None\n",
    "        self.left=None\n",
    "        \n",
    "        \n",
    "def leftmost(A):\n",
    "    while(A!=None and A.left!=None):\n",
    "        A=A.left\n",
    "    return(A)\n",
    "\n",
    "\n",
    "def rightmost(A):\n",
    "    while(A!=None and A.right!=None):\n",
    "        A=A.right\n",
    "    return(A)\n",
    "\n",
    "\n",
    "def inorderrecursion(A,x):\n",
    "    if(A == None):\n",
    "        return(None)\n",
    "    if(A==x or (inorderrecursion(A.left,x)) or (inorderrecursion(A.right,x))):\n",
    "        if(inorderrecursion(A.right,x)):\n",
    "            temp=inorderrecursion(A.right,x)\n",
    "        else:\n",
    "            temp=inorderrecursion(A.left,x)\n",
    "        if(temp):\n",
    "            if(A.left==temp):\n",
    "                print(A.value)\n",
    "                return(None)\n",
    "        return(A)\n",
    "    return(None)\n",
    "\n",
    "\n",
    "def inordersucc(A,x):\n",
    "    if(x.right!=None):\n",
    "        s=leftmost(x.right)\n",
    "        print(s.value)\n",
    "    if(x.right==None):\n",
    "        right=rightmost(A)\n",
    "        if(right==x):\n",
    "            print(\"Sorry\")\n",
    "        else:\n",
    "            inorderrecursion(A,x)\n",
    "\n",
    "\n",
    "def inorder(A):\n",
    "    if(A):\n",
    "        inorder(A.left)\n",
    "        print(A.value,end=\" \")\n",
    "        inorder(A.right)\n",
    "        \n",
    "\n",
    "root = Node(1)  \n",
    "root.left = Node(2)  \n",
    "root.right = Node(3)  \n",
    "root.left.left = Node(4)  \n",
    "root.left.right = Node(5)  \n",
    "root.right.right = Node(6) \n",
    "\n",
    "inordersucc(root,root.left)\n",
    "inordersucc(root,root.right)\n",
    "inordersucc(root,root.left.left)"
   ]
  },
  {
   "cell_type": "code",
   "execution_count": null,
   "metadata": {},
   "outputs": [],
   "source": []
  },
  {
   "cell_type": "code",
   "execution_count": null,
   "metadata": {},
   "outputs": [],
   "source": []
  }
 ],
 "metadata": {
  "kernelspec": {
   "display_name": "Python 3",
   "language": "python",
   "name": "python3"
  },
  "language_info": {
   "codemirror_mode": {
    "name": "ipython",
    "version": 3
   },
   "file_extension": ".py",
   "mimetype": "text/x-python",
   "name": "python",
   "nbconvert_exporter": "python",
   "pygments_lexer": "ipython3",
   "version": "3.7.7"
  }
 },
 "nbformat": 4,
 "nbformat_minor": 4
}
