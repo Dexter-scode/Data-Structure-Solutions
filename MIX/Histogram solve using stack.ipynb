{
 "cells": [
  {
   "cell_type": "code",
   "execution_count": 10,
   "metadata": {},
   "outputs": [
    {
     "name": "stdout",
     "output_type": "stream",
     "text": [
      "22\n",
      "22\n",
      "50\n",
      "50\n"
     ]
    }
   ],
   "source": [
    "def largestRectangle(A):\n",
    "    i=0\n",
    "    mx=0\n",
    "    stack=[]\n",
    "    while(i<len(A)):\n",
    "        if((not stack) or (A[i]>=A[stack[-1]])):\n",
    "            stack.append(i)\n",
    "            i+=1\n",
    "        else:\n",
    "            j=stack.pop()\n",
    "            if(stack):\n",
    "                area=A[j]*(i-stack[-1]-1)\n",
    "            else:\n",
    "                area=i*A[j]\n",
    "            mx=max(mx,area)\n",
    "    while(stack):\n",
    "        j=stack.pop()\n",
    "        if(stack):\n",
    "            area=A[j]*(i-stack[-1]-1)\n",
    "        else:\n",
    "            area=i*A[j]\n",
    "        mx=max(mx,area)\n",
    "        print(mx)\n",
    "    return(mx)\n",
    "A=[11,11,10,10,10]\n",
    "print(largestRectangle(A))"
   ]
  },
  {
   "cell_type": "code",
   "execution_count": null,
   "metadata": {},
   "outputs": [],
   "source": []
  }
 ],
 "metadata": {
  "kernelspec": {
   "display_name": "Python 3",
   "language": "python",
   "name": "python3"
  },
  "language_info": {
   "codemirror_mode": {
    "name": "ipython",
    "version": 3
   },
   "file_extension": ".py",
   "mimetype": "text/x-python",
   "name": "python",
   "nbconvert_exporter": "python",
   "pygments_lexer": "ipython3",
   "version": "3.7.7"
  }
 },
 "nbformat": 4,
 "nbformat_minor": 4
}
