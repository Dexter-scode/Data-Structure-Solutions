{
 "cells": [
  {
   "cell_type": "code",
   "execution_count": 13,
   "metadata": {},
   "outputs": [
    {
     "name": "stdout",
     "output_type": "stream",
     "text": [
      "[[1, 2, 5], [1, 3, 4], [1, 7], [2, 6], [3, 5], [8]]\n"
     ]
    }
   ],
   "source": [
    "def combinationSum(candidates, target):\n",
    "        res = []\n",
    "        candidates.sort()\n",
    "        dfs(candidates, target, 0, [], res)\n",
    "        return res\n",
    "        \n",
    "def dfs(candidates, target, index, path, res):\n",
    "    if target < 0:\n",
    "        return\n",
    "    if target == 0:\n",
    "        res.append(path)\n",
    "        return \n",
    "    for i in range(index, len(candidates)):\n",
    "        if i > index and candidates[i] == candidates[i-1]:\n",
    "            continue\n",
    "        dfs(candidates, target-candidates[i], i+1, path+[candidates[i]], res)\n",
    "A=[1,2,3,4,5,6,7,8]\n",
    "B=8\n",
    "print(combinationSum(A,B))"
   ]
  },
  {
   "cell_type": "code",
   "execution_count": null,
   "metadata": {},
   "outputs": [],
   "source": []
  }
 ],
 "metadata": {
  "kernelspec": {
   "display_name": "Python 3",
   "language": "python",
   "name": "python3"
  },
  "language_info": {
   "codemirror_mode": {
    "name": "ipython",
    "version": 3
   },
   "file_extension": ".py",
   "mimetype": "text/x-python",
   "name": "python",
   "nbconvert_exporter": "python",
   "pygments_lexer": "ipython3",
   "version": "3.7.7"
  }
 },
 "nbformat": 4,
 "nbformat_minor": 4
}
