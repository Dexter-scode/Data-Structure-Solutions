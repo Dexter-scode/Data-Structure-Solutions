{
 "cells": [
  {
   "cell_type": "code",
   "execution_count": 14,
   "metadata": {},
   "outputs": [
    {
     "name": "stdout",
     "output_type": "stream",
     "text": [
      "4\n",
      "1 0 0 0 \n",
      "1 1 1 0 \n",
      "0 0 1 0 \n",
      "0 0 1 1 \n"
     ]
    }
   ],
   "source": [
    "global N\n",
    "N=int(input())\n",
    "\n",
    "def main(maze):\n",
    "    arr=[]\n",
    "    for i in range(N):\n",
    "        arr.append([0]*N)\n",
    "    if(solve(maze,0,0,arr)==False):\n",
    "        print(\"Sorry\")\n",
    "        return(False)\n",
    "    finalprint(arr)\n",
    "\n",
    "def finalprint(arr):\n",
    "    for i in range(N):\n",
    "        for j in range(N):\n",
    "            print(arr[i][j],end=\" \")\n",
    "        print()     \n",
    "def solve(maze,x,y,arr):\n",
    "    if(x==N-1 and y==N-1 and maze[x][y]==1):\n",
    "        arr[x][y]=1\n",
    "        return(True)\n",
    "    if(safe(maze,x,y)==True):\n",
    "        arr[x][y]=1\n",
    "        if(solve(maze,x+1,y,arr)==True):\n",
    "            return(True)\n",
    "        if(solve(maze,x,y+1,arr)==True):\n",
    "            return(True)\n",
    "        arr[x][y]=0\n",
    "        return(False)\n",
    "def safe(maze,x,y):\n",
    "    if(x>=0 and y>=0 and x<N and y<N and maze[x][y]==1):\n",
    "        return(True)\n",
    "    return(False)\n",
    "        \n",
    "maze = [ [1, 0, 0, 0], \n",
    "         [1, 1, 1, 1], \n",
    "         [0, 0, 1, 0], \n",
    "         [1, 0, 1, 1] ] \n",
    "\n",
    "main(maze) \n"
   ]
  },
  {
   "cell_type": "code",
   "execution_count": null,
   "metadata": {},
   "outputs": [],
   "source": []
  },
  {
   "cell_type": "code",
   "execution_count": null,
   "metadata": {},
   "outputs": [],
   "source": []
  }
 ],
 "metadata": {
  "kernelspec": {
   "display_name": "Python 3",
   "language": "python",
   "name": "python3"
  },
  "language_info": {
   "codemirror_mode": {
    "name": "ipython",
    "version": 3
   },
   "file_extension": ".py",
   "mimetype": "text/x-python",
   "name": "python",
   "nbconvert_exporter": "python",
   "pygments_lexer": "ipython3",
   "version": "3.7.7"
  }
 },
 "nbformat": 4,
 "nbformat_minor": 4
}
