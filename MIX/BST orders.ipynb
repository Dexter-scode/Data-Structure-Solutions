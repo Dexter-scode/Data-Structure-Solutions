{
 "cells": [
  {
   "cell_type": "code",
   "execution_count": 1,
   "metadata": {},
   "outputs": [
    {
     "name": "stdout",
     "output_type": "stream",
     "text": [
      "4\n",
      "5\n",
      "2\n",
      "6\n",
      "3\n",
      "1\n"
     ]
    }
   ],
   "source": [
    "##Applicable On all tree\n",
    "\n",
    "def postorder(i,p,n):\n",
    "    if(p[0] in i):\n",
    "        root=i.index(p[0])\n",
    "    if(root!=0):\n",
    "        postorder(i[:root],p[1:root+1],len(i[:root]))\n",
    "    if(root!=n-1):\n",
    "        postorder(i[root+1:],p[root+1:],len(p[root+1:]))\n",
    "    print(p[0])\n",
    "\n",
    "i=[4,2,5,1,3,6]\n",
    "p=[1,2,4,5,3,6]\n",
    "postorder(i,p,len(i))"
   ]
  },
  {
   "cell_type": "code",
   "execution_count": 8,
   "metadata": {},
   "outputs": [
    {
     "name": "stdout",
     "output_type": "stream",
     "text": [
      "35 30 100 80 40 "
     ]
    }
   ],
   "source": [
    "## Applicable on BST only\n",
    "def postorderuntil(pre,n,minval,maxval,index):\n",
    "    if(index[0]>=n):\n",
    "        return()\n",
    "    if(pre[index[0]]<minval or pre[index[0]]>maxval):\n",
    "        return()\n",
    "    \n",
    "    val = pre[index[0]]\n",
    "    index[0]+=1\n",
    "    postorderuntil(pre,n,minval,val,index)\n",
    "    postorderuntil(pre,n,val,maxval,index)\n",
    "    print(val,end=\" \")\n",
    "\n",
    "def postorder(pre):\n",
    "    index=[0]\n",
    "    n=len(pre)\n",
    "    postorderuntil(pre,n,float(\"-inf\"),float(\"inf\"),index)\n",
    "\n",
    "pre=[40,30,35,80,100]\n",
    "postorder(pre)"
   ]
  },
  {
   "cell_type": "code",
   "execution_count": null,
   "metadata": {},
   "outputs": [],
   "source": []
  }
 ],
 "metadata": {
  "kernelspec": {
   "display_name": "Python 3",
   "language": "python",
   "name": "python3"
  },
  "language_info": {
   "codemirror_mode": {
    "name": "ipython",
    "version": 3
   },
   "file_extension": ".py",
   "mimetype": "text/x-python",
   "name": "python",
   "nbconvert_exporter": "python",
   "pygments_lexer": "ipython3",
   "version": "3.7.7"
  }
 },
 "nbformat": 4,
 "nbformat_minor": 4
}
