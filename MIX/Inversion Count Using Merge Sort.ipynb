{
 "cells": [
  {
   "cell_type": "code",
   "execution_count": 25,
   "metadata": {},
   "outputs": [
    {
     "name": "stdout",
     "output_type": "stream",
     "text": [
      "3\n"
     ]
    }
   ],
   "source": [
    " def count_inversion(lst):\n",
    "    return merge_count_inversion(lst)[1]\n",
    "\n",
    "def merge_count_inversion(lst):\n",
    "    if len(lst) <= 1:\n",
    "        return lst, 0\n",
    "    middle = int( len(lst) / 2 )\n",
    "    left, a = merge_count_inversion(lst[:middle])\n",
    "    right, b = merge_count_inversion(lst[middle:])\n",
    "    result, c = merge_count_split_inversion(left, right)\n",
    "    return result, (a + b + c)\n",
    "\n",
    "def merge_count_split_inversion(left, right):\n",
    "    result = []\n",
    "    count = 0\n",
    "    i, j = 0, 0\n",
    "    left_len = len(left)\n",
    "    while i < left_len and j < len(right):\n",
    "        if left[i] <= right[j]:\n",
    "            result.append(left[i])\n",
    "            i += 1\n",
    "        else:\n",
    "            result.append(right[j])\n",
    "            count += left_len - i\n",
    "            j += 1\n",
    "    result += left[i:]\n",
    "    result += right[j:]\n",
    "    return  result,count\n",
    "print(count_inversion(q))"
   ]
  },
  {
   "cell_type": "code",
   "execution_count": null,
   "metadata": {},
   "outputs": [],
   "source": []
  }
 ],
 "metadata": {
  "kernelspec": {
   "display_name": "Python 3",
   "language": "python",
   "name": "python3"
  },
  "language_info": {
   "codemirror_mode": {
    "name": "ipython",
    "version": 3
   },
   "file_extension": ".py",
   "mimetype": "text/x-python",
   "name": "python",
   "nbconvert_exporter": "python",
   "pygments_lexer": "ipython3",
   "version": "3.7.7"
  }
 },
 "nbformat": 4,
 "nbformat_minor": 4
}
