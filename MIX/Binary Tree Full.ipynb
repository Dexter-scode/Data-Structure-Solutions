{
 "cells": [
  {
   "cell_type": "markdown",
   "metadata": {},
   "source": [
    "# Creating Node"
   ]
  },
  {
   "cell_type": "code",
   "execution_count": 1,
   "metadata": {},
   "outputs": [],
   "source": [
    "class Node:\n",
    "    def __init__(self,value=None):\n",
    "        self.value=value\n",
    "        self.left=None\n",
    "        self.right=None\n",
    "        "
   ]
  },
  {
   "cell_type": "markdown",
   "metadata": {},
   "source": [
    "## Insert Function\n"
   ]
  },
  {
   "cell_type": "code",
   "execution_count": 2,
   "metadata": {},
   "outputs": [],
   "source": [
    "def insert(A,data):\n",
    "    q=[]\n",
    "    q.append(A)\n",
    "    while(len(q)):\n",
    "        temp=q.pop(0)\n",
    "        if(temp.left==None):\n",
    "            temp.left=Node(data)\n",
    "            break\n",
    "        else:\n",
    "            q.append(temp.left)\n",
    "        if(temp.right==None):\n",
    "            temp.right=Node(data)\n",
    "            break\n",
    "        else:\n",
    "            q.append(temp.right)"
   ]
  },
  {
   "cell_type": "markdown",
   "metadata": {},
   "source": [
    "## Inorder "
   ]
  },
  {
   "cell_type": "code",
   "execution_count": 3,
   "metadata": {},
   "outputs": [],
   "source": [
    "def inorder(A):\n",
    "    if(A):\n",
    "        inorder(A.left)\n",
    "        print(A.value,end=\" \")\n",
    "        inorder(A.right)\n",
    "        \n",
    "def inorderstack(A):\n",
    "    stack=[]\n",
    "    cur=A\n",
    "    while(True):\n",
    "        if cur:\n",
    "            stack.append(cur)\n",
    "            cur=cur.left\n",
    "        elif(stack):\n",
    "            cur=stack.pop()\n",
    "            print(cur.value,end=\" \")\n",
    "            cur=cur.right\n",
    "        else:\n",
    "            break\n",
    "            \n",
    "def inordermorris(A):\n",
    "    cur=A\n",
    "    while(cur):\n",
    "        if(cur.left==None):\n",
    "            print(cur.value,end=\" \")\n",
    "            cur=cur.right\n",
    "        else:\n",
    "            pre=cur.left\n",
    "            while(pre.right != None and pre.right!=cur):\n",
    "                pre=pre.right\n",
    "            \n",
    "            if(pre.right==None):\n",
    "                pre.right=cur\n",
    "                cur=cur.left\n",
    "            else:\n",
    "                pre.right=None\n",
    "                print(cur.value,end=\" \")\n",
    "                cur=cur.right\n"
   ]
  },
  {
   "cell_type": "markdown",
   "metadata": {},
   "source": [
    "## Main Function"
   ]
  },
  {
   "cell_type": "code",
   "execution_count": 4,
   "metadata": {},
   "outputs": [
    {
     "name": "stdout",
     "output_type": "stream",
     "text": [
      "4 2 5 1 6 3 7 "
     ]
    }
   ],
   "source": [
    "tree=None\n",
    "A=[1,2,3,4,5,6,7]\n",
    "for i in range(len(A)):\n",
    "    if(tree==None):\n",
    "        tree=Node(A[i])\n",
    "    else:\n",
    "        insert(tree,A[i])\n",
    "inordermorris(tree)"
   ]
  },
  {
   "cell_type": "code",
   "execution_count": null,
   "metadata": {},
   "outputs": [],
   "source": []
  }
 ],
 "metadata": {
  "kernelspec": {
   "display_name": "Python 3",
   "language": "python",
   "name": "python3"
  },
  "language_info": {
   "codemirror_mode": {
    "name": "ipython",
    "version": 3
   },
   "file_extension": ".py",
   "mimetype": "text/x-python",
   "name": "python",
   "nbconvert_exporter": "python",
   "pygments_lexer": "ipython3",
   "version": "3.7.7"
  }
 },
 "nbformat": 4,
 "nbformat_minor": 4
}
