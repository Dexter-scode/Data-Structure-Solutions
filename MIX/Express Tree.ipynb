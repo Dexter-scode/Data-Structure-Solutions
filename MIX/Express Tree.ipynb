{
 "cells": [
  {
   "cell_type": "code",
   "execution_count": 33,
   "metadata": {},
   "outputs": [
    {
     "name": "stdout",
     "output_type": "stream",
     "text": [
      "9 * 8 * 7 - 6 + 5 "
     ]
    },
    {
     "ename": "TypeError",
     "evalue": "unsupported operand type(s) for -: 'int' and 'NoneType'",
     "output_type": "error",
     "traceback": [
      "\u001b[1;31m---------------------------------------------------------------------------\u001b[0m",
      "\u001b[1;31mTypeError\u001b[0m                                 Traceback (most recent call last)",
      "\u001b[1;32m<ipython-input-33-e01ad662cb13>\u001b[0m in \u001b[0;36m<module>\u001b[1;34m\u001b[0m\n\u001b[0;32m     53\u001b[0m \u001b[0mr\u001b[0m\u001b[1;33m=\u001b[0m\u001b[0mtree\u001b[0m\u001b[1;33m(\u001b[0m\u001b[0mA\u001b[0m\u001b[1;33m)\u001b[0m\u001b[1;33m\u001b[0m\u001b[1;33m\u001b[0m\u001b[0m\n\u001b[0;32m     54\u001b[0m \u001b[0minorder\u001b[0m\u001b[1;33m(\u001b[0m\u001b[0mr\u001b[0m\u001b[1;33m)\u001b[0m\u001b[1;33m\u001b[0m\u001b[1;33m\u001b[0m\u001b[0m\n\u001b[1;32m---> 55\u001b[1;33m \u001b[0mprint\u001b[0m\u001b[1;33m(\u001b[0m\u001b[0mevalute\u001b[0m\u001b[1;33m(\u001b[0m\u001b[0mr\u001b[0m\u001b[1;33m)\u001b[0m\u001b[1;33m)\u001b[0m\u001b[1;33m\u001b[0m\u001b[1;33m\u001b[0m\u001b[0m\n\u001b[0m\u001b[0;32m     56\u001b[0m \u001b[1;33m\u001b[0m\u001b[0m\n",
      "\u001b[1;32m<ipython-input-33-e01ad662cb13>\u001b[0m in \u001b[0;36mevalute\u001b[1;34m(root)\u001b[0m\n\u001b[0;32m     36\u001b[0m         \u001b[0mleft_sum\u001b[0m\u001b[1;33m+\u001b[0m\u001b[0mright_sum\u001b[0m\u001b[1;33m\u001b[0m\u001b[1;33m\u001b[0m\u001b[0m\n\u001b[0;32m     37\u001b[0m     \u001b[1;32melif\u001b[0m\u001b[1;33m(\u001b[0m\u001b[0mroot\u001b[0m\u001b[1;33m.\u001b[0m\u001b[0mvalue\u001b[0m\u001b[1;33m==\u001b[0m\u001b[1;34m\"-\"\u001b[0m\u001b[1;33m)\u001b[0m\u001b[1;33m:\u001b[0m\u001b[1;33m\u001b[0m\u001b[1;33m\u001b[0m\u001b[0m\n\u001b[1;32m---> 38\u001b[1;33m         \u001b[1;32mreturn\u001b[0m \u001b[0mleft_sum\u001b[0m \u001b[1;33m-\u001b[0m \u001b[0mright_sum\u001b[0m\u001b[1;33m\u001b[0m\u001b[1;33m\u001b[0m\u001b[0m\n\u001b[0m\u001b[0;32m     39\u001b[0m \u001b[1;33m\u001b[0m\u001b[0m\n\u001b[0;32m     40\u001b[0m     \u001b[1;32melif\u001b[0m \u001b[0mroot\u001b[0m\u001b[1;33m.\u001b[0m\u001b[0mvalue\u001b[0m \u001b[1;33m==\u001b[0m \u001b[1;34m'*'\u001b[0m\u001b[1;33m:\u001b[0m\u001b[1;33m\u001b[0m\u001b[1;33m\u001b[0m\u001b[0m\n",
      "\u001b[1;31mTypeError\u001b[0m: unsupported operand type(s) for -: 'int' and 'NoneType'"
     ]
    }
   ],
   "source": [
    "class Node:\n",
    "    def __init__(self,value=None):\n",
    "        self.value=value\n",
    "        self.left=None\n",
    "        self.right=None\n",
    "        \n",
    "def check(c):\n",
    "    if(c ==\"+\" or c ==\"-\" or c ==\"*\" or c ==\"/\" or c == \"^\"):\n",
    "        return(True)\n",
    "    else:\n",
    "        return(False)\n",
    "\n",
    "def tree(root):\n",
    "    stack=[]\n",
    "    for char in root:\n",
    "        if(not check(char)):\n",
    "            t=Node(char)\n",
    "            stack.append(t)\n",
    "        else:\n",
    "            t=Node(char)\n",
    "            t1=stack.pop()\n",
    "            t2=stack.pop()\n",
    "            t.left=t1\n",
    "            t.right=t2\n",
    "            stack.append(t)\n",
    "    t=stack.pop()\n",
    "    return(t)\n",
    "def evaluateExpressionTree(root): \n",
    "    if root is None: \n",
    "        return 0\n",
    "    if root.left is None and root.right is None: \n",
    "        return int(root.value) \n",
    "    left_sum = evaluateExpressionTree(root.left) \n",
    "    right_sum = evaluateExpressionTree(root.right) \n",
    "    if root.value == '+': \n",
    "        return left_sum + right_sum \n",
    "      \n",
    "    elif root.value == '-': \n",
    "        return left_sum - right_sum \n",
    "      \n",
    "    elif root.value == '*': \n",
    "        return left_sum * right_sum \n",
    "      \n",
    "    else: \n",
    "        return left_sum / right_sum\n",
    "    \n",
    "def inorder(A):\n",
    "    if(A!=None):\n",
    "        inorder(A.left)\n",
    "        print(A.value,end=\" \")\n",
    "        inorder(A.right)\n",
    "\n",
    "A=[5,6,\"+\",7,8,\"*\",9,\"*\",\"-\"]\n",
    "r=tree(A)\n",
    "inorder(r)\n",
    "print(evaluateExpressionTree(r))\n",
    "            \n"
   ]
  },
  {
   "cell_type": "code",
   "execution_count": 30,
   "metadata": {},
   "outputs": [
    {
     "name": "stdout",
     "output_type": "stream",
     "text": [
      "5 + 6 - 7 * 8 * 9 "
     ]
    },
    {
     "data": {
      "text/plain": [
       "-493"
      ]
     },
     "execution_count": 30,
     "metadata": {},
     "output_type": "execute_result"
    }
   ],
   "source": [
    "class Et:\n",
    "    def __init__(self,value=None):\n",
    "        self.value=value\n",
    "        self.left=None\n",
    "        self.right=None\n",
    "def isOperator(c): \n",
    "    if (c == '+' or c == '-' or c == '*'\n",
    "        or c == '/' or c == '^'): \n",
    "        return True\n",
    "    else: \n",
    "        return False\n",
    "def inorder(t): \n",
    "    if t is not None: \n",
    "        inorder(t.left) \n",
    "        print(t.value, end=\" \") \n",
    "        inorder(t.right) \n",
    "def constructTree(postfix): \n",
    "    stack = [] \n",
    "    for char in postfix :\n",
    "        if not isOperator(char): \n",
    "            t = Et(char) \n",
    "            stack.append(t)\n",
    "        else:  \n",
    "            t = Et(char) \n",
    "            t1 = stack.pop() \n",
    "            t2 = stack.pop() \n",
    "            t.right = t1 \n",
    "            t.left = t2 \n",
    "            stack.append(t) \n",
    "    t = stack.pop()\n",
    "    return t \n",
    "def evaluateExpressionTree(root): \n",
    "    if root is None: \n",
    "        return 0\n",
    "    if root.left is None and root.right is None: \n",
    "        return int(root.value) \n",
    "    left_sum = evaluateExpressionTree(root.left) \n",
    "    right_sum = evaluateExpressionTree(root.right) \n",
    "    if root.value == '+': \n",
    "        return left_sum + right_sum \n",
    "      \n",
    "    elif root.value == '-': \n",
    "        return left_sum - right_sum \n",
    "      \n",
    "    elif root.value == '*': \n",
    "        return left_sum * right_sum \n",
    "      \n",
    "    else: \n",
    "        return left_sum / right_sum\n",
    "postfix = \"56+78*9*-\"\n",
    "r = constructTree(postfix) \n",
    "inorder(r)\n",
    "evaluateExpressionTree(r)"
   ]
  },
  {
   "cell_type": "code",
   "execution_count": null,
   "metadata": {},
   "outputs": [],
   "source": []
  }
 ],
 "metadata": {
  "kernelspec": {
   "display_name": "Python 3",
   "language": "python",
   "name": "python3"
  },
  "language_info": {
   "codemirror_mode": {
    "name": "ipython",
    "version": 3
   },
   "file_extension": ".py",
   "mimetype": "text/x-python",
   "name": "python",
   "nbconvert_exporter": "python",
   "pygments_lexer": "ipython3",
   "version": "3.7.7"
  }
 },
 "nbformat": 4,
 "nbformat_minor": 4
}
