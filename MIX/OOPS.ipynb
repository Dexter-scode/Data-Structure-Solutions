{
 "cells": [
  {
   "cell_type": "code",
   "execution_count": 1,
   "metadata": {},
   "outputs": [
    {
     "name": "stdout",
     "output_type": "stream",
     "text": [
      "5 6\n",
      "5 6\n",
      "30\n"
     ]
    }
   ],
   "source": [
    "class Ractange:\n",
    "    def __init__(self,x,y):\n",
    "        self.width=x\n",
    "        self.height=y\n",
    "    \n",
    "    def display(self):\n",
    "        print((\"{} {}\").format(self.width,self.height))\n",
    "\n",
    "class Derived(Ractange):\n",
    "    def __init__(self,x,y):\n",
    "        self.width=x\n",
    "        self.height=y\n",
    "    def display(self):\n",
    "        super().display()\n",
    "        print(\"{}\".format(self.width*self.height))\n",
    "        \n",
    "def main():\n",
    "    x,y=map(int,input().split())\n",
    "    S1=Derived(x,y)\n",
    "    S1.display()\n",
    "main()\n"
   ]
  },
  {
   "cell_type": "code",
   "execution_count": null,
   "metadata": {},
   "outputs": [],
   "source": []
  }
 ],
 "metadata": {
  "kernelspec": {
   "display_name": "Python 3",
   "language": "python",
   "name": "python3"
  },
  "language_info": {
   "codemirror_mode": {
    "name": "ipython",
    "version": 3
   },
   "file_extension": ".py",
   "mimetype": "text/x-python",
   "name": "python",
   "nbconvert_exporter": "python",
   "pygments_lexer": "ipython3",
   "version": "3.7.7"
  }
 },
 "nbformat": 4,
 "nbformat_minor": 4
}
