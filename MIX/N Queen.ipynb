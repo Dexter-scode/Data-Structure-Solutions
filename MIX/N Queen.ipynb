{
 "cells": [
  {
   "cell_type": "code",
   "execution_count": 27,
   "metadata": {},
   "outputs": [
    {
     "name": "stdout",
     "output_type": "stream",
     "text": [
      "18\n",
      "1 0 0 0 0 0 0 0 0 0 0 0 0 0 0 0 0 0 \n",
      "0 0 0 1 0 0 0 0 0 0 0 0 0 0 0 0 0 0 \n",
      "0 1 0 0 0 0 0 0 0 0 0 0 0 0 0 0 0 0 \n",
      "0 0 0 0 0 0 0 0 0 0 0 0 0 1 0 0 0 0 \n",
      "0 0 1 0 0 0 0 0 0 0 0 0 0 0 0 0 0 0 \n",
      "0 0 0 0 0 0 0 0 0 0 1 0 0 0 0 0 0 0 \n",
      "0 0 0 0 0 0 0 0 0 0 0 0 1 0 0 0 0 0 \n",
      "0 0 0 0 1 0 0 0 0 0 0 0 0 0 0 0 0 0 \n",
      "0 0 0 0 0 0 0 0 0 0 0 0 0 0 0 1 0 0 \n",
      "0 0 0 0 0 0 0 0 0 0 0 0 0 0 0 0 0 1 \n",
      "0 0 0 0 0 0 0 0 0 0 0 0 0 0 1 0 0 0 \n",
      "0 0 0 0 0 0 1 0 0 0 0 0 0 0 0 0 0 0 \n",
      "0 0 0 0 0 0 0 0 1 0 0 0 0 0 0 0 0 0 \n",
      "0 0 0 0 0 0 0 0 0 0 0 0 0 0 0 0 1 0 \n",
      "0 0 0 0 0 1 0 0 0 0 0 0 0 0 0 0 0 0 \n",
      "0 0 0 0 0 0 0 1 0 0 0 0 0 0 0 0 0 0 \n",
      "0 0 0 0 0 0 0 0 0 1 0 0 0 0 0 0 0 0 \n",
      "0 0 0 0 0 0 0 0 0 0 0 1 0 0 0 0 0 0 \n"
     ]
    },
    {
     "data": {
      "text/plain": [
       "True"
      ]
     },
     "execution_count": 27,
     "metadata": {},
     "output_type": "execute_result"
    }
   ],
   "source": [
    "global N\n",
    "N = int(input())\n",
    "\n",
    "def finalprint(arr):\n",
    "    for i in range(N):\n",
    "        for j in range(N):\n",
    "            print(arr[i][j],end=\" \")\n",
    "        print()\n",
    "def isSafe(arr,row,col):\n",
    "    for i in range(col):\n",
    "        if(arr[row][i]==1):\n",
    "            return(False)\n",
    "    for i,j in zip(range(row,-1,-1),range(col,-1,-1)):\n",
    "        if(arr[i][j]==1):\n",
    "            return(False)\n",
    "    for i,j in zip(range(row,N,1),range(col,-1,-1)):\n",
    "        if(arr[i][j]==1):\n",
    "            return(False)\n",
    "    return(True)\n",
    "\n",
    "def Solve(arr,col):\n",
    "    if(col>=N):\n",
    "        return(True)\n",
    "    for i in range(N):\n",
    "        if(isSafe(arr,i,col)):\n",
    "            arr[i][col]=1\n",
    "            if(Solve(arr,col+1)==True):\n",
    "                return(True)\n",
    "            arr[i][col]=0\n",
    "    return(False)\n",
    "def QN():\n",
    "    arr=[]\n",
    "    for i in range(N):\n",
    "        arr.append([0]*N)\n",
    "    if(Solve(arr,0)==False):\n",
    "        print(\"sorry\")\n",
    "        return(False)\n",
    "    finalprint(arr)\n",
    "    return(True)\n",
    "QN()"
   ]
  }
 ],
 "metadata": {
  "kernelspec": {
   "display_name": "Python 3",
   "language": "python",
   "name": "python3"
  },
  "language_info": {
   "codemirror_mode": {
    "name": "ipython",
    "version": 3
   },
   "file_extension": ".py",
   "mimetype": "text/x-python",
   "name": "python",
   "nbconvert_exporter": "python",
   "pygments_lexer": "ipython3",
   "version": "3.7.7"
  }
 },
 "nbformat": 4,
 "nbformat_minor": 4
}
