{
 "cells": [
  {
   "cell_type": "code",
   "execution_count": 1,
   "metadata": {},
   "outputs": [
    {
     "name": "stdout",
     "output_type": "stream",
     "text": [
      "[[3 1 6 5 7 8 4 9 2]\n",
      " [5 2 9 1 3 4 7 6 8]\n",
      " [4 8 7 6 2 9 5 3 1]\n",
      " [2 6 3 4 1 5 9 8 7]\n",
      " [9 7 4 8 6 3 1 2 5]\n",
      " [8 5 1 7 9 2 6 4 3]\n",
      " [1 3 8 9 4 7 2 5 6]\n",
      " [6 9 2 3 5 1 8 7 4]\n",
      " [7 4 5 2 8 6 3 1 9]]\n"
     ]
    }
   ],
   "source": [
    "import numpy\n",
    "grid=[[3,0,6,5,0,8,4,0,0], \n",
    "      [5,2,0,0,0,0,0,0,0], \n",
    "      [0,8,7,0,0,0,0,3,1], \n",
    "      [0,0,3,0,1,0,0,8,0], \n",
    "      [9,0,0,8,6,3,0,0,5], \n",
    "      [0,5,0,0,9,0,6,0,0], \n",
    "      [1,3,0,0,0,0,2,5,0], \n",
    "      [0,0,0,0,0,0,0,7,4], \n",
    "      [0,0,5,2,0,6,3,0,0]] \n",
    "def main(grid):\n",
    "    if(solve(grid)):\n",
    "        return(numpy.array(grid))\n",
    "    return(\"Sorry\")\n",
    "\n",
    "def solve(arr):\n",
    "    l=[0,0]\n",
    "    if(not empty(arr,l)):\n",
    "        return(True)\n",
    "    row=l[0]\n",
    "    col=l[1]\n",
    "    for i in range(1,10):\n",
    "        if(safe(arr,row,col,i)):\n",
    "            arr[row][col]=i\n",
    "            if(solve(arr)):\n",
    "                return(True)\n",
    "            arr[row][col]=0\n",
    "    return(False)\n",
    "def empty(arr,l):\n",
    "    for i in range(9):\n",
    "        for j in range(9):\n",
    "            if(arr[i][j]==0):\n",
    "                l[0]=i\n",
    "                l[1]=j\n",
    "                return(True)\n",
    "    return(False)\n",
    "\n",
    "def safe(arr,row,col,num):\n",
    "    for i in range(9):\n",
    "        if(arr[row][i]==num):\n",
    "            return(False)\n",
    "        if(arr[i][col]==num):\n",
    "            return(False)\n",
    "    row=row - row%3\n",
    "    col=col - col%3\n",
    "    for i in range(3):\n",
    "        for j in range(3):\n",
    "            if(arr[i+row][j+col]==num):\n",
    "                return(False)\n",
    "    return(True)\n",
    "\n",
    "print(main(grid))"
   ]
  },
  {
   "cell_type": "code",
   "execution_count": null,
   "metadata": {},
   "outputs": [],
   "source": [
    "3 1 6 5 7 8 4 9 2\n",
    "5 2 9 1 3 4 7 6 8\n",
    "4 8 7 6 2 9 5 3 1\n",
    "2 6 3 4 1 5 9 8 7\n",
    "9 7 4 8 6 3 1 2 5\n",
    "8 5 1 7 9 2 6 4 3\n",
    "1 3 8 9 4 7 2 5 6\n",
    "6 9 2 3 5 1 8 7 4\n",
    "7 4 5 2 8 6 3 1 9"
   ]
  }
 ],
 "metadata": {
  "kernelspec": {
   "display_name": "Python 3",
   "language": "python",
   "name": "python3"
  },
  "language_info": {
   "codemirror_mode": {
    "name": "ipython",
    "version": 3
   },
   "file_extension": ".py",
   "mimetype": "text/x-python",
   "name": "python",
   "nbconvert_exporter": "python",
   "pygments_lexer": "ipython3",
   "version": "3.7.7"
  }
 },
 "nbformat": 4,
 "nbformat_minor": 4
}
