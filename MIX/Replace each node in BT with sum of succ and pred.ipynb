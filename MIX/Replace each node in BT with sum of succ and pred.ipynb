{
 "cells": [
  {
   "cell_type": "code",
   "execution_count": 6,
   "metadata": {},
   "outputs": [
    {
     "name": "stdout",
     "output_type": "stream",
     "text": [
      "1 2 4 5 3 6 7 \n",
      "11 9 2 3 13 4 3 "
     ]
    }
   ],
   "source": [
    "class Node:\n",
    "    def __init__(self,value=None):\n",
    "        self.value=value\n",
    "        self.left=None\n",
    "        self.right=None\n",
    "\n",
    "def inorder(A,arr):\n",
    "    if(A!=None):\n",
    "        inorder(A.left,arr)\n",
    "        arr.append(A.value)\n",
    "        inorder(A.right,arr)\n",
    "\n",
    "def sumreplace(A,arr,i):\n",
    "    if(A==None):\n",
    "        return()\n",
    "    sumreplace(A.left,arr,i)\n",
    "    A.value=arr[i[0]-1]+arr[i[0]+1]\n",
    "    i[0]+=1\n",
    "    sumreplace(A.right,arr,i)\n",
    "    \n",
    "def sumreplaceuntil(A):\n",
    "    if(A==None):\n",
    "        return()\n",
    "    arr=[]\n",
    "    inorder(A,arr)\n",
    "    arr.append(0)\n",
    "    i=[0]\n",
    "    sumreplace(A,arr,i)\n",
    "    \n",
    "def preorder(A):\n",
    "    if(A):\n",
    "        print(A.value,end=\" \")\n",
    "        preorder(A.left)\n",
    "        preorder(A.right)\n",
    "\n",
    "root = Node(1)\n",
    "root.left = Node(2)\n",
    "root.right = Node(3)\n",
    "root.left.left = Node(4)\n",
    "root.left.right = Node(5)\n",
    "root.right.left = Node(6)  \n",
    "root.right.right = Node(7)\n",
    "\n",
    "preorder(root)\n",
    "print()\n",
    "sumreplaceuntil(root)\n",
    "preorder(root)"
   ]
  },
  {
   "cell_type": "code",
   "execution_count": null,
   "metadata": {},
   "outputs": [],
   "source": []
  }
 ],
 "metadata": {
  "kernelspec": {
   "display_name": "Python 3",
   "language": "python",
   "name": "python3"
  },
  "language_info": {
   "codemirror_mode": {
    "name": "ipython",
    "version": 3
   },
   "file_extension": ".py",
   "mimetype": "text/x-python",
   "name": "python",
   "nbconvert_exporter": "python",
   "pygments_lexer": "ipython3",
   "version": "3.7.7"
  }
 },
 "nbformat": 4,
 "nbformat_minor": 4
}
