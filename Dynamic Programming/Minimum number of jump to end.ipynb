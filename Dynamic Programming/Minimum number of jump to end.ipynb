{
 "cells": [
  {
   "cell_type": "code",
   "execution_count": 3,
   "metadata": {},
   "outputs": [
    {
     "name": "stdout",
     "output_type": "stream",
     "text": [
      "[0, 1, 1, 2, 2, 3, 3, 4, 4, 4]\n"
     ]
    }
   ],
   "source": [
    "def jumpstoend(A):\n",
    "    arr=[float(\"inf\") for i in range(len(A))]\n",
    "    arr[0]=0\n",
    "    ref=[0 for i in range(len(A))]\n",
    "    for i in range(len(A)):\n",
    "        for j in range(i):\n",
    "            if(j+A[j]>=i):\n",
    "                arr[i]=min(arr[i],arr[j]+1)\n",
    "    return(arr)\n",
    "\n",
    "brr=[2,3,1,1,2,4,2,0,1,1]\n",
    "print(jumpstoend(brr))"
   ]
  },
  {
   "cell_type": "code",
   "execution_count": null,
   "metadata": {},
   "outputs": [],
   "source": []
  }
 ],
 "metadata": {
  "kernelspec": {
   "display_name": "Python 3",
   "language": "python",
   "name": "python3"
  },
  "language_info": {
   "codemirror_mode": {
    "name": "ipython",
    "version": 3
   },
   "file_extension": ".py",
   "mimetype": "text/x-python",
   "name": "python",
   "nbconvert_exporter": "python",
   "pygments_lexer": "ipython3",
   "version": "3.7.4"
  }
 },
 "nbformat": 4,
 "nbformat_minor": 2
}
