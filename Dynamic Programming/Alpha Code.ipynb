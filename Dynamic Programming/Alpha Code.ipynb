{
 "cells": [
  {
   "cell_type": "code",
   "execution_count": 32,
   "metadata": {},
   "outputs": [
    {
     "name": "stdout",
     "output_type": "stream",
     "text": [
      "25114\n",
      "[1, 1, 2, 0, 0, 0]\n",
      "[1, 1, 2, 2, 0, 0]\n",
      "[1, 1, 2, 2, 4, 0]\n",
      "[1, 1, 2, 2, 4, 6]\n",
      "[1, 1, 2, 2, 4, 6]\n"
     ]
    }
   ],
   "source": [
    "inputStr = input ()\n",
    "inputStr = inputStr.strip()\n",
    "if (inputStr == '0'):\n",
    "    print()\n",
    "dp = [0 for i in range(len(inputStr) + 1)]\n",
    "dp[0] = 1\n",
    "dp[1] = 1\n",
    "for i in range(2,len(inputStr)+1):\n",
    "    prevDigit = int(inputStr[i-2])\n",
    "    curDigit = int(inputStr[i-1])\n",
    "    if (prevDigit >= 3 or prevDigit == 0):\n",
    "        dp[i] = dp[i-1]\n",
    "    else:\n",
    "        if (curDigit == 0):\n",
    "            dp[i] = dp[i-2]\n",
    "        else:\n",
    "            if (prevDigit == 1):\n",
    "                dp[i] = dp[i-1] + dp[i-2]\n",
    "            elif (prevDigit == 2):\n",
    "                if (curDigit > 6):\n",
    "                    dp[i] = dp[i-1]\n",
    "                else:\n",
    "                    dp[i] = dp[i-1] + dp[i-2]\n",
    "    print(dp)\n",
    "print(dp)"
   ]
  },
  {
   "cell_type": "code",
   "execution_count": null,
   "metadata": {},
   "outputs": [],
   "source": []
  }
 ],
 "metadata": {
  "kernelspec": {
   "display_name": "Python 3",
   "language": "python",
   "name": "python3"
  },
  "language_info": {
   "codemirror_mode": {
    "name": "ipython",
    "version": 3
   },
   "file_extension": ".py",
   "mimetype": "text/x-python",
   "name": "python",
   "nbconvert_exporter": "python",
   "pygments_lexer": "ipython3",
   "version": "3.7.4"
  }
 },
 "nbformat": 4,
 "nbformat_minor": 2
}
