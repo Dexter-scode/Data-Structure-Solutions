{
 "cells": [
  {
   "cell_type": "code",
   "execution_count": 8,
   "metadata": {},
   "outputs": [
    {
     "name": "stdout",
     "output_type": "stream",
     "text": [
      "[[ 0.  0. inf inf inf]\n",
      " [inf  0.  0. inf inf]\n",
      " [inf inf  0.  0. inf]\n",
      " [inf inf inf  0.  0.]\n",
      " [inf inf inf inf  0.]]\n",
      "[[ 0.  0.  2.  5. 15.]\n",
      " [inf  0.  0.  2. 11.]\n",
      " [inf inf  0.  0.  8.]\n",
      " [inf inf inf  0.  0.]\n",
      " [inf inf inf inf  0.]]\n"
     ]
    }
   ],
   "source": [
    "import numpy\n",
    "def rodCut( A, B):\n",
    "        B = [0] + B + [A]\n",
    "        n = len(B)\n",
    "        dp = [[float(\"inf\")]*(n) for i in range(n)]\n",
    "        par = [[0]*(n) for i in range(n)]\n",
    "        \n",
    "        for i in range(n):\n",
    "            dp[i][i] = 0\n",
    "            if i < n - 1:\n",
    "                dp[i][i+1] = 0\n",
    "        print(numpy.array(dp))\n",
    "        for gap in range(3,len(B)+1):\n",
    "            for i in range(n-gap+1):\n",
    "                j = i + gap - 1\n",
    "                for k in range(i+1, j):\n",
    "                    if dp[i][k] + dp[k][j] + B[j]-B[i] < dp[i][j]:\n",
    "                        dp[i][j]= dp[i][k] + dp[k][j] + B[j]-B[i]\n",
    "                        par[i][j] = k\n",
    "        return(numpy.array(dp))\n",
    "    \n",
    "        def make_par(i,j):\n",
    "            if i == j:\n",
    "                res.append(B[i])\n",
    "            elif i == j - 1:\n",
    "                pass\n",
    "            else:\n",
    "                k = par[i][j]\n",
    "                res.append(B[k])\n",
    "                make_par(i,k)\n",
    "                make_par(k,j)\n",
    "        \n",
    "        res = []\n",
    "        i = 0\n",
    "        j = n-1\n",
    "        \n",
    "        make_par(i,j)\n",
    "        return res\n",
    "A=10\n",
    "B=[1,2,3]\n",
    "print(rodCut(A,B))"
   ]
  },
  {
   "cell_type": "code",
   "execution_count": null,
   "metadata": {},
   "outputs": [],
   "source": []
  }
 ],
 "metadata": {
  "kernelspec": {
   "display_name": "Python 3",
   "language": "python",
   "name": "python3"
  },
  "language_info": {
   "codemirror_mode": {
    "name": "ipython",
    "version": 3
   },
   "file_extension": ".py",
   "mimetype": "text/x-python",
   "name": "python",
   "nbconvert_exporter": "python",
   "pygments_lexer": "ipython3",
   "version": "3.7.4"
  }
 },
 "nbformat": 4,
 "nbformat_minor": 2
}
