{
 "cells": [
  {
   "cell_type": "code",
   "execution_count": 7,
   "metadata": {},
   "outputs": [
    {
     "name": "stdout",
     "output_type": "stream",
     "text": [
      "[1, 1, 1, 2, 1, 3, 4, 5, 5, 2, 2, 3, 1, 2, 6, 5, 6, 6, 3, 7, 4, 7, 5, 8, 8, 7, 5, 9, 6, 7, 4, 9, 7, 6, 3, 4, 4, 7, 3, 10, 2, 4, 7, 9, 10, 3, 3, 9, 8, 4, 5, 6, 7, 8, 6, 9, 10, 11, 3, 8, 8, 12, 9, 7, 10, 10, 11, 4, 3, 11, 11, 10, 12, 13, 12, 9, 13, 2, 12, 13, 6, 4, 14, 14, 8, 13, 11, 15, 15]\n"
     ]
    }
   ],
   "source": [
    "brr=[ 69, 54, 19, 51, 16, 54, 64, 89, 72, 40, 31, 43, 1, 11, 82, 65, 75, 67, 25, 98, 31, 77, 55, 88, 85, 76, 35, 101, 44, 74, 29, 94, 72, 39, 20, 24, 23, 66, 16, 95, 5, 17, 54, 89, 93, 10, 7, 88, 68, 10, 11, 22, 25, 50, 18, 59, 79, 87, 7, 49, 26, 96, 27, 19, 67, 35, 50, 10, 6, 48, 38, 28, 66, 94, 60, 27, 76, 4, 43, 66, 14, 8, 78, 72, 21, 56, 34, 90, 89 ]\n",
    "arr=[1 for _ in range(len(brr))]\n",
    "i=1\n",
    "j=0\n",
    "while(i<len(arr) and j<len(arr)):\n",
    "    if(i>j and brr[i]>brr[j] and arr[i]<arr[j]+1):\n",
    "        arr[i]=arr[j]+1\n",
    "        j+=1\n",
    "        if(j==i):\n",
    "            j=0\n",
    "            i+=1\n",
    "    else:\n",
    "        j+=1\n",
    "        if(j==i):\n",
    "            i+=1\n",
    "            j=0\n",
    "    \n",
    "print(arr)"
   ]
  },
  {
   "cell_type": "code",
   "execution_count": null,
   "metadata": {},
   "outputs": [],
   "source": [
    "\n",
    "            "
   ]
  }
 ],
 "metadata": {
  "kernelspec": {
   "display_name": "Python 3",
   "language": "python",
   "name": "python3"
  },
  "language_info": {
   "codemirror_mode": {
    "name": "ipython",
    "version": 3
   },
   "file_extension": ".py",
   "mimetype": "text/x-python",
   "name": "python",
   "nbconvert_exporter": "python",
   "pygments_lexer": "ipython3",
   "version": "3.7.4"
  }
 },
 "nbformat": 4,
 "nbformat_minor": 2
}
