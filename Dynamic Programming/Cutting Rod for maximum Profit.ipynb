{
 "cells": [
  {
   "cell_type": "code",
   "execution_count": 4,
   "metadata": {},
   "outputs": [
    {
     "name": "stdout",
     "output_type": "stream",
     "text": [
      "[[ 0  0  0  0  0  0]\n",
      " [ 0  2  4  6  8 10]\n",
      " [ 0  2  5  7 10 12]\n",
      " [ 0  2  5  7 10 12]\n",
      " [ 0  2  5  7 10 12]]\n",
      "[2, 2, 1]\n"
     ]
    }
   ],
   "source": [
    "import numpy\n",
    "le=[1,2,3,4]\n",
    "val=[2,5,7,8]\n",
    "total=5\n",
    "arr=[[0 for i in range(total+1)] for i in range(len(le)+1)]\n",
    "for i in range(1,len(le)+1):\n",
    "    for j in range(total+1):\n",
    "        if(i==1):\n",
    "            arr[i][j]=j*val[0]\n",
    "        elif(j<le[i-1]):\n",
    "            arr[i][j]=arr[i-1][j]\n",
    "        else:\n",
    "            arr[i][j]=max(arr[i-1][j],arr[i][j-le[i-1]]+val[i-1])\n",
    "print(numpy.array(arr))\n",
    "ans=[]\n",
    "while(i!=0 and j!=0):\n",
    "    if(arr[i][j]==arr[i-1][j]):\n",
    "        i-=1\n",
    "    else:\n",
    "        ans.append(le[i-1])\n",
    "        j-=le[i-1]\n",
    "print(ans)\n",
    "        "
   ]
  },
  {
   "cell_type": "code",
   "execution_count": null,
   "metadata": {},
   "outputs": [],
   "source": []
  }
 ],
 "metadata": {
  "kernelspec": {
   "display_name": "Python 3",
   "language": "python",
   "name": "python3"
  },
  "language_info": {
   "codemirror_mode": {
    "name": "ipython",
    "version": 3
   },
   "file_extension": ".py",
   "mimetype": "text/x-python",
   "name": "python",
   "nbconvert_exporter": "python",
   "pygments_lexer": "ipython3",
   "version": "3.7.4"
  }
 },
 "nbformat": 4,
 "nbformat_minor": 2
}
