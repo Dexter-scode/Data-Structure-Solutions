{
 "cells": [
  {
   "cell_type": "code",
   "execution_count": 10,
   "metadata": {},
   "outputs": [
    {
     "name": "stdout",
     "output_type": "stream",
     "text": [
      "11\n",
      "2 3 7 8 10\n",
      "[[1 0 1 0 0 0 0 0 0 0 0 0]\n",
      " [1 0 1 1 0 0 0 0 0 0 0 0]\n",
      " [1 0 1 1 0 0 0 0 0 0 0 0]\n",
      " [1 0 1 1 0 0 0 0 0 0 0 0]\n",
      " [1 0 1 1 0 0 0 0 0 0 0 0]]\n"
     ]
    }
   ],
   "source": [
    "import numpy\n",
    "n=int(input())\n",
    "brr=list(map(int,input().split()))"
   ]
  },
  {
   "cell_type": "code",
   "execution_count": 26,
   "metadata": {},
   "outputs": [
    {
     "name": "stdout",
     "output_type": "stream",
     "text": [
      "[[1 0 1 0 0 0 0 0 0 0 0 0]\n",
      " [1 0 1 1 0 1 0 0 0 0 0 0]\n",
      " [1 0 1 1 0 1 0 1 0 1 1 0]\n",
      " [1 0 1 1 0 1 0 1 1 1 1 1]\n",
      " [1 0 1 1 0 1 0 1 1 1 1 1]]\n",
      "[8, 3]\n"
     ]
    }
   ],
   "source": [
    "arr=[[0 for i in range(n+1)] for i in range(len(brr))]\n",
    "for i in range(len(brr)):\n",
    "    arr[i][0]=1\n",
    "arr[0][brr[0]]=1\n",
    "for i in range(1,len(brr)):\n",
    "    for j in range(1,(n+1)):\n",
    "        if(brr[i]>j):\n",
    "            arr[i][j]=arr[i-1][j]\n",
    "        elif(brr[i]<=j):\n",
    "            if(arr[i-1][j]==1):\n",
    "                arr[i][j]=1\n",
    "            elif(arr[i-1][j-brr[i]]==1):\n",
    "                arr[i][j]=1\n",
    "            else:\n",
    "                arr[i][j]=0\n",
    "print(numpy.array(arr))\n",
    "ans=[]\n",
    "while(i!=0 and j!=0):\n",
    "    if(arr[i][j]!=arr[i-1][j]):\n",
    "        ans.append(brr[i])\n",
    "        j-=brr[i]\n",
    "    i-=1\n",
    "print(ans)"
   ]
  },
  {
   "cell_type": "code",
   "execution_count": null,
   "metadata": {},
   "outputs": [],
   "source": []
  }
 ],
 "metadata": {
  "kernelspec": {
   "display_name": "Python 3",
   "language": "python",
   "name": "python3"
  },
  "language_info": {
   "codemirror_mode": {
    "name": "ipython",
    "version": 3
   },
   "file_extension": ".py",
   "mimetype": "text/x-python",
   "name": "python",
   "nbconvert_exporter": "python",
   "pygments_lexer": "ipython3",
   "version": "3.7.4"
  }
 },
 "nbformat": 4,
 "nbformat_minor": 2
}
