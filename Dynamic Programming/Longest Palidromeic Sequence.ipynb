{
 "cells": [
  {
   "cell_type": "code",
   "execution_count": 7,
   "metadata": {},
   "outputs": [
    {
     "name": "stdout",
     "output_type": "stream",
     "text": [
      "agbdba\n",
      "[[1 1 1 1 3 5]\n",
      " [0 1 1 1 3 3]\n",
      " [0 0 1 1 3 3]\n",
      " [0 0 0 1 1 1]\n",
      " [0 0 0 0 1 1]\n",
      " [0 0 0 0 0 1]]\n"
     ]
    }
   ],
   "source": [
    "import numpy\n",
    "S=input()\n",
    "arr=[[0 for i in range(len(S))] for i in range(len(S))]\n",
    "for gap in range(len(S)):\n",
    "    for i in range(len(S)-gap):\n",
    "        j=i+gap\n",
    "        if(i==j):\n",
    "            arr[i][j]=1\n",
    "        elif(S[i]==S[j]):\n",
    "            arr[i][j]=2+arr[i+1][j-1]\n",
    "        else:\n",
    "            arr[i][j]=max(arr[i][j-1],arr[i+1][j])\n",
    "print(numpy.array(arr))\n",
    "    "
   ]
  },
  {
   "cell_type": "code",
   "execution_count": null,
   "metadata": {},
   "outputs": [],
   "source": []
  }
 ],
 "metadata": {
  "kernelspec": {
   "display_name": "Python 3",
   "language": "python",
   "name": "python3"
  },
  "language_info": {
   "codemirror_mode": {
    "name": "ipython",
    "version": 3
   },
   "file_extension": ".py",
   "mimetype": "text/x-python",
   "name": "python",
   "nbconvert_exporter": "python",
   "pygments_lexer": "ipython3",
   "version": "3.7.4"
  }
 },
 "nbformat": 4,
 "nbformat_minor": 2
}
