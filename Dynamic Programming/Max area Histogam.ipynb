{
 "cells": [
  {
   "cell_type": "code",
   "execution_count": null,
   "metadata": {},
   "outputs": [],
   "source": [
    "def ans(arr):\n",
    "    mx_area=0\n",
    "    n=len(arr)\n",
    "    stack=[]\n",
    "    i=0\n",
    "    while(i<len(arr)):\n",
    "        if(len(stack)==0 or arr[i]>arr[stack[-1]]):\n",
    "            stack.append(i)\n",
    "            i+=1\n",
    "        else:\n",
    "            top=stack.pop()\n",
    "            val=arr[top]\n",
    "            if(len(stack)==0):\n",
    "                area=val*i\n",
    "            else:\n",
    "                area=val*(i-stack[-1]-1)\n",
    "            mx_area=max(mx_area,area)\n",
    "    while(len(stack)>0):\n",
    "        top=stack.pop()\n",
    "        val=arr[top]\n",
    "        if(len(stack)==0):\n",
    "            area=val*i\n",
    "        else:\n",
    "            area=val*(i-stack[-1]-1)\n",
    "        mx_area=max(mx_area,area)\n",
    "    return(mx_area)\n",
    "\n",
    "arr=[1,2,3,4,5]\n",
    "print(ans(arr))"
   ]
  }
 ],
 "metadata": {
  "kernelspec": {
   "display_name": "Python 3",
   "language": "python",
   "name": "python3"
  },
  "language_info": {
   "codemirror_mode": {
    "name": "ipython",
    "version": 3
   },
   "file_extension": ".py",
   "mimetype": "text/x-python",
   "name": "python",
   "nbconvert_exporter": "python",
   "pygments_lexer": "ipython3",
   "version": "3.7.4"
  }
 },
 "nbformat": 4,
 "nbformat_minor": 2
}
