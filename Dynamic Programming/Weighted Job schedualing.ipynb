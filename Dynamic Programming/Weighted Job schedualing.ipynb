{
 "cells": [
  {
   "cell_type": "code",
   "execution_count": 12,
   "metadata": {},
   "outputs": [
    {
     "name": "stdout",
     "output_type": "stream",
     "text": [
      "[50, 70, 100, 200]\n",
      "[50, 70, 150, 200]\n",
      "[50, 70, 170, 200]\n",
      "[50, 70, 170, 250]\n",
      "[50, 70, 170, 250]\n"
     ]
    }
   ],
   "source": [
    "def WJS(arr):\n",
    "    dp=[]\n",
    "    for i in range(len(arr)):\n",
    "        dp.append(arr[i][2])\n",
    "    for i in range(len(arr)):\n",
    "        for j in range(i):\n",
    "            if(arr[j][1]<=arr[i][0]):\n",
    "                dp[i]=max(dp[i],dp[j]+arr[i][2])\n",
    "                print(dp)\n",
    "                \n",
    "    return(dp)\n",
    "            \n",
    "    \n",
    "\n",
    "A=[[1,2,50],[3,5,20],[6,19,100],[2,100,200]]\n",
    "print(WJS(A))"
   ]
  },
  {
   "cell_type": "code",
   "execution_count": null,
   "metadata": {},
   "outputs": [],
   "source": []
  }
 ],
 "metadata": {
  "kernelspec": {
   "display_name": "Python 3",
   "language": "python",
   "name": "python3"
  },
  "language_info": {
   "codemirror_mode": {
    "name": "ipython",
    "version": 3
   },
   "file_extension": ".py",
   "mimetype": "text/x-python",
   "name": "python",
   "nbconvert_exporter": "python",
   "pygments_lexer": "ipython3",
   "version": "3.7.4"
  }
 },
 "nbformat": 4,
 "nbformat_minor": 2
}
