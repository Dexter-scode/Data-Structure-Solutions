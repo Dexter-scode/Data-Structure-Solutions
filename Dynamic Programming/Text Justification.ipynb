{
 "cells": [
  {
   "cell_type": "code",
   "execution_count": 11,
   "metadata": {},
   "outputs": [
    {
     "name": "stdout",
     "output_type": "stream",
     "text": [
      "tushar roy likes to code\n",
      "10\n",
      "[16, 49, 25, 64, 36]\n",
      "None\n"
     ]
    }
   ],
   "source": [
    "import numpy\n",
    "def res(A,n):\n",
    "    m=len(A)\n",
    "    arr=[[0 for i in range(m)] for j in range(m)]\n",
    "    for i in range(m):\n",
    "        temp=len(A[i])\n",
    "        arr[i][i]=(n-temp)**2\n",
    "        for j in range(i+1,m):\n",
    "            temp=temp+len(A[j])+1\n",
    "            if(temp<=n):\n",
    "                arr[i][j]=(n-temp)**2\n",
    "            else:\n",
    "                arr[i][j]=float(\"inf\")\n",
    "    brr=[0 for i in range(m)]\n",
    "    for i in range(m-1,-1,-1):\n",
    "        brr[i]=arr[i][i]\n",
    "        for j in range(i-1,-1,-1):\n",
    "            brr[j]=min(brr[j],arr[i][j-1])\n",
    "    print(brr)\n",
    "            \n",
    "    \n",
    "\n",
    "A=list(input().split())\n",
    "n=int(input())\n",
    "print(res(A,n))"
   ]
  },
  {
   "cell_type": "code",
   "execution_count": null,
   "metadata": {},
   "outputs": [],
   "source": []
  }
 ],
 "metadata": {
  "kernelspec": {
   "display_name": "Python 3",
   "language": "python",
   "name": "python3"
  },
  "language_info": {
   "codemirror_mode": {
    "name": "ipython",
    "version": 3
   },
   "file_extension": ".py",
   "mimetype": "text/x-python",
   "name": "python",
   "nbconvert_exporter": "python",
   "pygments_lexer": "ipython3",
   "version": "3.7.4"
  }
 },
 "nbformat": 4,
 "nbformat_minor": 2
}
