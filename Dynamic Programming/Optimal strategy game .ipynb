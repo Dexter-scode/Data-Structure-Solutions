{
 "cells": [
  {
   "cell_type": "code",
   "execution_count": 4,
   "metadata": {},
   "outputs": [
    {
     "name": "stdout",
     "output_type": "stream",
     "text": [
      "[[[3, 0], [9, 3], [4, 9], [11, 4]], [[0, 0], [9, 0], [9, 1], [10, 2]], [[0, 0], [0, 0], [1, 0], [2, 1]], [[0, 0], [0, 0], [0, 0], [2, 0]]]\n"
     ]
    }
   ],
   "source": [
    "import numpy\n",
    "def game(A):\n",
    "    arr=[[[0,0] for i in range(len(A))] for i in range(len(A))]\n",
    "    for gap in range(len(A)):\n",
    "        for i in range(len(A)-gap):\n",
    "            j=i+gap\n",
    "            if(i==j):\n",
    "                arr[i][j][0]=A[i]\n",
    "            else:\n",
    "                arr[i][j][0]=max(arr[i][j-1][1]+A[j],A[i]+arr[i+1][j][1])\n",
    "                arr[i][j][1]=sum(A[i:j+1])-arr[i][j][0]\n",
    "                \n",
    "    print(arr)\n",
    "\n",
    "A=[3,9,1,2]\n",
    "game(A)"
   ]
  },
  {
   "cell_type": "code",
   "execution_count": null,
   "metadata": {},
   "outputs": [],
   "source": []
  },
  {
   "cell_type": "code",
   "execution_count": null,
   "metadata": {},
   "outputs": [],
   "source": []
  }
 ],
 "metadata": {
  "kernelspec": {
   "display_name": "Python 3",
   "language": "python",
   "name": "python3"
  },
  "language_info": {
   "codemirror_mode": {
    "name": "ipython",
    "version": 3
   },
   "file_extension": ".py",
   "mimetype": "text/x-python",
   "name": "python",
   "nbconvert_exporter": "python",
   "pygments_lexer": "ipython3",
   "version": "3.7.4"
  }
 },
 "nbformat": 4,
 "nbformat_minor": 2
}
