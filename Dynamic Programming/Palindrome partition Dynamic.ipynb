{
 "cells": [
  {
   "cell_type": "code",
   "execution_count": 42,
   "metadata": {},
   "outputs": [
    {
     "name": "stdout",
     "output_type": "stream",
     "text": [
      "2\n"
     ]
    }
   ],
   "source": [
    "import numpy\n",
    "def ispalindrome(A):\n",
    "    for i in range(len(A)//2):\n",
    "        if(A[i]!=A[len(A)-1-i]):\n",
    "            return(False)\n",
    "    return(True)\n",
    "\n",
    "def solve(A):\n",
    "    if(ispalindrome(A)):\n",
    "        return(0)\n",
    "    arr=[[0 for i in range(len(A))] for i in range(len(A))]\n",
    "    for gap in range(len(A)):\n",
    "        for i in range(len(A)-gap):\n",
    "            j=i+gap\n",
    "            l=float(\"inf\")\n",
    "            if(ispalindrome(A[i:j+1])):\n",
    "                arr[i][j]=0\n",
    "            else:\n",
    "                for x in range(i,j):\n",
    "                    temp=1+arr[i][x]+arr[x+1][j]\n",
    "                    if(temp<l):\n",
    "                        arr[i][j]=temp\n",
    "                        l=temp\n",
    "    print(numpy.array(arr[0][len(A)-1]))\n",
    "\n",
    "(solve(\"abcbmm\"))"
   ]
  },
  {
   "cell_type": "code",
   "execution_count": null,
   "metadata": {},
   "outputs": [],
   "source": []
  }
 ],
 "metadata": {
  "kernelspec": {
   "display_name": "Python 3",
   "language": "python",
   "name": "python3"
  },
  "language_info": {
   "codemirror_mode": {
    "name": "ipython",
    "version": 3
   },
   "file_extension": ".py",
   "mimetype": "text/x-python",
   "name": "python",
   "nbconvert_exporter": "python",
   "pygments_lexer": "ipython3",
   "version": "3.7.4"
  }
 },
 "nbformat": 4,
 "nbformat_minor": 2
}
