{
 "cells": [
  {
   "cell_type": "code",
   "execution_count": 7,
   "metadata": {},
   "outputs": [
    {
     "name": "stdout",
     "output_type": "stream",
     "text": [
      "None\n",
      "['cat sand dog', 'cats and dog']\n"
     ]
    }
   ],
   "source": [
    "ans=[]\n",
    "\n",
    "def wordBreak(A, B,C):\n",
    "    if(len(A)==0):\n",
    "        ans.append(C)\n",
    "    new=C\n",
    "    extra=\"\"\n",
    "    for i in range(len(A)):\n",
    "        extra+=A[i]\n",
    "        if(extra in B):\n",
    "            if(new==\"\"):\n",
    "                    wordBreak(A[i+1:],B,extra)\n",
    "            else:\n",
    "                wordBreak(A[i+1:],B,new+\" \"+extra)\n",
    "                \n",
    "A=\"catsanddog\"\n",
    "B=[\"cats\",\"cat\",\"sand\",\"and\",\"dog\"]\n",
    "print(wordBreak(A,B,\"\"))\n",
    "print(ans)"
   ]
  },
  {
   "cell_type": "code",
   "execution_count": null,
   "metadata": {},
   "outputs": [],
   "source": []
  }
 ],
 "metadata": {
  "kernelspec": {
   "display_name": "Python 3",
   "language": "python",
   "name": "python3"
  },
  "language_info": {
   "codemirror_mode": {
    "name": "ipython",
    "version": 3
   },
   "file_extension": ".py",
   "mimetype": "text/x-python",
   "name": "python",
   "nbconvert_exporter": "python",
   "pygments_lexer": "ipython3",
   "version": "3.7.4"
  }
 },
 "nbformat": 4,
 "nbformat_minor": 2
}
