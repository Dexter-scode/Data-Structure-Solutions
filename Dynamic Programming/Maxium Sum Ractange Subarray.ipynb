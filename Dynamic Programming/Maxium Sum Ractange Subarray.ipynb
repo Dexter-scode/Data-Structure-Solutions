{
 "cells": [
  {
   "cell_type": "code",
   "execution_count": 4,
   "metadata": {},
   "outputs": [
    {
     "name": "stdout",
     "output_type": "stream",
     "text": [
      "-1\n"
     ]
    }
   ],
   "source": [
    "def LSC(A,n):\n",
    "    x=0\n",
    "    y=0\n",
    "    max_till=A[0]\n",
    "    cur_max=A[0]\n",
    "    for i in range(1,n):\n",
    "        cur_max=max(A[i],cur_max+A[i])\n",
    "        if(cur_max==A[i]):\n",
    "            x=i\n",
    "        max_till=max(max_till,cur_max)\n",
    "        if(max_till==cur_max):\n",
    "            y=i\n",
    "    return(max_till,x,y)\n",
    "\n",
    "def MSRS(A):\n",
    "    max_left=float(\"-inf\")\n",
    "    max_right=float(\"-inf\")\n",
    "    max_up=float(\"-inf\")\n",
    "    max_down=float(\"-inf\")\n",
    "    max_sum=float(\"-inf\")\n",
    "    cur_sum=float(\"-inf\")\n",
    "    n=len(A)\n",
    "    m=len(A[0])\n",
    "    for i in range(m):\n",
    "        brr=[0 for i in range(n)]\n",
    "        for j in range(i,m):\n",
    "            for x in range(n):\n",
    "                brr[x]+=A[x][j]\n",
    "            cur_sum,up,down=LSC(brr,len(brr))\n",
    "            if(cur_sum>max_sum):\n",
    "                max_sum=cur_sum\n",
    "                max_left=i\n",
    "                max_right=j\n",
    "                max_up=up\n",
    "                max_down=down\n",
    "    arr=[]               \n",
    "    for i in range(max_up,max_down+1):\n",
    "        l=[]\n",
    "        for j in range(max_left,max_right+1):\n",
    "            l.append(A[j][i])\n",
    "        arr.append(l)\n",
    "    return(max_sum)\n",
    "\n",
    "arr=[[-9, -8, -7],[-6, -5, -4],[-3, -2, -1]]\n",
    "print(MSRS(arr))\n",
    "                "
   ]
  },
  {
   "cell_type": "code",
   "execution_count": 11,
   "metadata": {},
   "outputs": [
    {
     "name": "stdout",
     "output_type": "stream",
     "text": [
      "[-6, -3, -1]\n",
      "[-21, -12, -5]\n",
      "[-45, -27, -12]\n",
      "-1\n"
     ]
    }
   ],
   "source": [
    "def solve(A):\n",
    "    n=len(A)\n",
    "    m=len(A[0])\n",
    "    if(n<1 or m<1):\n",
    "        return 0\n",
    "    reversedprefix_arr=[]\n",
    "    for arr in A:\n",
    "        prefix_arr_cur=[0]*m\n",
    "        prefix_arr_cur[m-1]=arr[m-1]\n",
    "        for j in range(m-2,-1,-1):\n",
    "            prefix_arr_cur[j]=prefix_arr_cur[j+1]+arr[j]\n",
    "        reversedprefix_arr.append(prefix_arr_cur)\n",
    "    print()\n",
    "    arr=[0]*m\n",
    "    max_sum=A[-1][-1]\n",
    "    for i in range(n-1,-1,-1):\n",
    "        arr=[x+y for x,y in zip(arr,reversedprefix_arr[i])]\n",
    "        print(arr)\n",
    "        max_sum=max(max_sum,max(arr))\n",
    "    return max_sum\n",
    "arr=[[-9, -8, -7],[-6, -5, -4],[-3, -2, -1]]\n",
    "print(solve(arr))"
   ]
  },
  {
   "cell_type": "code",
   "execution_count": null,
   "metadata": {},
   "outputs": [],
   "source": []
  }
 ],
 "metadata": {
  "kernelspec": {
   "display_name": "Python 3",
   "language": "python",
   "name": "python3"
  },
  "language_info": {
   "codemirror_mode": {
    "name": "ipython",
    "version": 3
   },
   "file_extension": ".py",
   "mimetype": "text/x-python",
   "name": "python",
   "nbconvert_exporter": "python",
   "pygments_lexer": "ipython3",
   "version": "3.7.4"
  }
 },
 "nbformat": 4,
 "nbformat_minor": 2
}
