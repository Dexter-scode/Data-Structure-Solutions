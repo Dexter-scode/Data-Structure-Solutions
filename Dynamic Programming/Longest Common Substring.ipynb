{
 "cells": [
  {
   "cell_type": "code",
   "execution_count": 10,
   "metadata": {},
   "outputs": [
    {
     "name": "stdout",
     "output_type": "stream",
     "text": [
      "abcdef\n",
      "abcdf\n",
      "4\n"
     ]
    }
   ],
   "source": [
    "def LCS(a,b):\n",
    "    count=0\n",
    "    n=len(a)\n",
    "    m=len(b)\n",
    "    arr=[[0 for i in range(n+1)] for i in range(m+1)]\n",
    "    for i in range(1,m+1):\n",
    "        for j in range(1,n+1):\n",
    "            if(a[j-1]==b[i-1]):\n",
    "                count+=1\n",
    "                arr[i][j]=arr[i-1][j-1]+1\n",
    "    mx=0\n",
    "    for i in range(m+1):\n",
    "        for j in range(n+1):\n",
    "            mx=max(mx,arr[i][j])\n",
    "    return(mx)\n",
    "\n",
    "a=input()\n",
    "b=input()\n",
    "print(LCS(a,b))"
   ]
  },
  {
   "cell_type": "code",
   "execution_count": null,
   "metadata": {},
   "outputs": [],
   "source": []
  }
 ],
 "metadata": {
  "kernelspec": {
   "display_name": "Python 3",
   "language": "python",
   "name": "python3"
  },
  "language_info": {
   "codemirror_mode": {
    "name": "ipython",
    "version": 3
   },
   "file_extension": ".py",
   "mimetype": "text/x-python",
   "name": "python",
   "nbconvert_exporter": "python",
   "pygments_lexer": "ipython3",
   "version": "3.7.4"
  }
 },
 "nbformat": 4,
 "nbformat_minor": 2
}
