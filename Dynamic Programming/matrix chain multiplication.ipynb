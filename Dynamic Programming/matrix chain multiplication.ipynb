{
 "cells": [
  {
   "cell_type": "code",
   "execution_count": 13,
   "metadata": {},
   "outputs": [
    {
     "name": "stdout",
     "output_type": "stream",
     "text": [
      "1 2 3 4\n",
      "[[ 0  0  6 18]\n",
      " [ 0  0  0 24]\n",
      " [ 0  0  0  0]\n",
      " [ 0  0  0  0]]\n"
     ]
    }
   ],
   "source": [
    "import numpy\n",
    "brr=list(map(int,input().split()))\n",
    "n=len(brr)\n",
    "arr=[[0 for i in range(len(brr))] for i in range(len(brr))]\n",
    "for gap in range(2,len(d)+1):\n",
    "    for i in range(len(brr)-gap):\n",
    "        j=i+gap\n",
    "        arr[i][j]=float(\"inf\")\n",
    "        for k in range(i,j):\n",
    "            temp=arr[i][k]+arr[k][j]+brr[i]*brr[j]*brr[k]\n",
    "            if(temp<arr[i][j]):\n",
    "                arr[i][j]=temp\n",
    "print(numpy.array(arr))"
   ]
  },
  {
   "cell_type": "code",
   "execution_count": null,
   "metadata": {},
   "outputs": [],
   "source": []
  }
 ],
 "metadata": {
  "kernelspec": {
   "display_name": "Python 3",
   "language": "python",
   "name": "python3"
  },
  "language_info": {
   "codemirror_mode": {
    "name": "ipython",
    "version": 3
   },
   "file_extension": ".py",
   "mimetype": "text/x-python",
   "name": "python",
   "nbconvert_exporter": "python",
   "pygments_lexer": "ipython3",
   "version": "3.7.4"
  }
 },
 "nbformat": 4,
 "nbformat_minor": 2
}
