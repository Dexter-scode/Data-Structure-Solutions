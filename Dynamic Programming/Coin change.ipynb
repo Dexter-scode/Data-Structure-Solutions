{
 "cells": [
  {
   "cell_type": "code",
   "execution_count": 12,
   "metadata": {},
   "outputs": [
    {
     "name": "stdout",
     "output_type": "stream",
     "text": [
      "11\n",
      "1 5 6 8\n",
      "[[ 0  1  2  3  4  5  6  7  8  9 10 11]\n",
      " [ 0  1  2  3  4  1  2  3  4  5  2  3]\n",
      " [ 0  1  2  3  4  1  1  2  3  4  2  2]\n",
      " [ 0  1  2  3  4  1  1  2  1  2  2  2]]\n",
      "2\n",
      "[6, 5]\n"
     ]
    }
   ],
   "source": [
    "import numpy\n",
    "n=int(input())\n",
    "brr=list(map(int,input().split()))\n",
    "arr=[[0 for i in range(n+1)] for j in range(len(brr))]\n",
    "for j in range(len(brr)):\n",
    "    p=1\n",
    "    for i in range(1,n+1):\n",
    "        if(j==0 and brr[0]*p==i):\n",
    "            arr[j][i]=i\n",
    "            p+=1\n",
    "        elif(j>0):\n",
    "            if(brr[j]*p==i):\n",
    "                arr[j][i]=p\n",
    "                p+=1\n",
    "            elif(brr[j]<i):\n",
    "                arr[j][i]=min(arr[j][i-brr[j]]+1,arr[j-1][i])\n",
    "            elif(brr[j]*p>i):\n",
    "                arr[j][i]=arr[j-1][i]\n",
    "print(numpy.array(arr))\n",
    "print(arr[j][i])\n",
    "ans=[]\n",
    "while(i!=0 and j!=0):\n",
    "    if(arr[j][i]!=arr[j-1][i]):\n",
    "        ans.append(brr[j])\n",
    "        i-=brr[j]\n",
    "    j-=1\n",
    "print(ans)\n",
    "        "
   ]
  },
  {
   "cell_type": "code",
   "execution_count": 34,
   "metadata": {},
   "outputs": [
    {
     "name": "stdout",
     "output_type": "stream",
     "text": [
      "[0, inf, 1, 1, 2, 2, 1, 1, 2, 2, 2, 3, 2, 2]\n"
     ]
    }
   ],
   "source": [
    "n=13\n",
    "brr=[7,2,3,6]\n",
    "arr=[float(\"inf\") for i in range(n+1)]\n",
    "arr[0]=0\n",
    "for i in brr:\n",
    "    j=i\n",
    "    while(j<n+1):\n",
    "        if(min(arr[i],1+arr[j-i])!=float(\"inf\")):\n",
    "            p=arr[j]\n",
    "            arr[j]=min(arr[j],1+arr[j-i])\n",
    "        j+=1\n",
    "\n",
    "print(arr)"
   ]
  },
  {
   "cell_type": "code",
   "execution_count": null,
   "metadata": {},
   "outputs": [],
   "source": []
  }
 ],
 "metadata": {
  "kernelspec": {
   "display_name": "Python 3",
   "language": "python",
   "name": "python3"
  },
  "language_info": {
   "codemirror_mode": {
    "name": "ipython",
    "version": 3
   },
   "file_extension": ".py",
   "mimetype": "text/x-python",
   "name": "python",
   "nbconvert_exporter": "python",
   "pygments_lexer": "ipython3",
   "version": "3.7.4"
  }
 },
 "nbformat": 4,
 "nbformat_minor": 2
}
