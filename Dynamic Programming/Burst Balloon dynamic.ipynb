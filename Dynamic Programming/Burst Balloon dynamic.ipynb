{
 "cells": [
  {
   "cell_type": "code",
   "execution_count": null,
   "metadata": {},
   "outputs": [],
   "source": [
    "def solve(A):\n",
    "    arr=[[0 for i in range(len(A))] for i in range(len(A))]\n",
    "    for gap in range(len(A)):\n",
    "        for i in range(len(A)-gap):\n",
    "            j=i+gap\n",
    "            if(i==j):\n",
    "                arr[i][j]=A[i]\n",
    "            else:\n",
    "                "
   ]
  }
 ],
 "metadata": {
  "kernelspec": {
   "display_name": "Python 3",
   "language": "python",
   "name": "python3"
  },
  "language_info": {
   "codemirror_mode": {
    "name": "ipython",
    "version": 3
   },
   "file_extension": ".py",
   "mimetype": "text/x-python",
   "name": "python",
   "nbconvert_exporter": "python",
   "pygments_lexer": "ipython3",
   "version": "3.7.4"
  }
 },
 "nbformat": 4,
 "nbformat_minor": 2
}
