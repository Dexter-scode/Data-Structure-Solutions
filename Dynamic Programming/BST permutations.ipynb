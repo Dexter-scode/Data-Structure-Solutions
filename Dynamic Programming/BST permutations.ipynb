{
 "cells": [
  {
   "cell_type": "code",
   "execution_count": 21,
   "metadata": {},
   "outputs": [
    {
     "name": "stdout",
     "output_type": "stream",
     "text": [
      "4\n",
      "3\n",
      "8\n"
     ]
    }
   ],
   "source": [
    "import math\n",
    "\n",
    "def nCr(n, r):\n",
    "    f = math.factorial\n",
    "    return f(n) // (f(r) * f(n - r))\n",
    "\n",
    "def cntPermBST(n, height):\n",
    "    return recurse(n, height)[0] % (10 ** 9 + 7)\n",
    "\n",
    "def recurse(n, height):\n",
    "    if n == 1 and height == 0:\n",
    "        return [1, 0]\n",
    "    elif n == 0 and height >= 0:\n",
    "        return [0, 1]\n",
    "    elif n == 0 or height == 0:\n",
    "        return [0, 0]\n",
    "    else:\n",
    "        count = [0, 0]\n",
    "        for i in range(1, n + 1):\n",
    "            left = recurse(i - 1, height - 1)\n",
    "            right = recurse(n - i, height - 1)\n",
    "            num = left[0] * right[1] + right[0] * left[1] + left[0] * right[0]\n",
    "            count[0] += nCr(n - 1, n - i) * num\n",
    "            count[1] += nCr(n - 1, n - i) * left[1] * right[1]\n",
    "        return count\n",
    "    \n",
    "A=int(input())\n",
    "B=int(input())\n",
    "    \n",
    "print(cntPermBST(A,B))"
   ]
  },
  {
   "cell_type": "code",
   "execution_count": null,
   "metadata": {},
   "outputs": [],
   "source": []
  }
 ],
 "metadata": {
  "kernelspec": {
   "display_name": "Python 3",
   "language": "python",
   "name": "python3"
  },
  "language_info": {
   "codemirror_mode": {
    "name": "ipython",
    "version": 3
   },
   "file_extension": ".py",
   "mimetype": "text/x-python",
   "name": "python",
   "nbconvert_exporter": "python",
   "pygments_lexer": "ipython3",
   "version": "3.7.4"
  }
 },
 "nbformat": 4,
 "nbformat_minor": 2
}
