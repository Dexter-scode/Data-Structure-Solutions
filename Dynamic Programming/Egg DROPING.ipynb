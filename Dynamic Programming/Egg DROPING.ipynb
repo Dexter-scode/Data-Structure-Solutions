{
 "cells": [
  {
   "cell_type": "code",
   "execution_count": 2,
   "metadata": {},
   "outputs": [
    {
     "name": "stdout",
     "output_type": "stream",
     "text": [
      "No of Floor: 5\n",
      "No of Eggs: 2\n",
      "2\n",
      "3\n",
      "4\n",
      "5\n",
      "[[0, 0, 0, 0, 0, 0], [0, 1, 2, 3, 4, 5], [0, 1, 2, 2, 3, 3]]\n"
     ]
    }
   ],
   "source": [
    "Fl=int(input(\"No of Floor: \"))\n",
    "Egg=int(input(\"No of Eggs: \"))\n",
    "arr=[[0 for i in range(Fl+1)] for i in range(Egg+1)]\n",
    "for i in range(1,Egg+1):\n",
    "    for j in range(1,Fl+1):\n",
    "        if(i==1):\n",
    "            arr[i][j]=j\n",
    "        else:\n",
    "            if(i>j):\n",
    "                arr[i][j]=arr[i-1][j]\n",
    "            else:\n",
    "                arr[i][j]=1+arr[i-1][j]\n",
    "                print(arr[i-1][j])\n",
    "                for k in range(1,j):\n",
    "                    temp=1+max(arr[i-1][k-1],arr[i][j-k])\n",
    "                    if(temp<arr[i][j]):\n",
    "                        arr[i][j]=temp\n",
    "                            \n",
    "print(arr)"
   ]
  },
  {
   "cell_type": "code",
   "execution_count": null,
   "metadata": {},
   "outputs": [],
   "source": []
  }
 ],
 "metadata": {
  "kernelspec": {
   "display_name": "Python 3",
   "language": "python",
   "name": "python3"
  },
  "language_info": {
   "codemirror_mode": {
    "name": "ipython",
    "version": 3
   },
   "file_extension": ".py",
   "mimetype": "text/x-python",
   "name": "python",
   "nbconvert_exporter": "python",
   "pygments_lexer": "ipython3",
   "version": "3.7.4"
  }
 },
 "nbformat": 4,
 "nbformat_minor": 2
}
