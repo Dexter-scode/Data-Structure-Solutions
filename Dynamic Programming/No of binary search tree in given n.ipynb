{
 "cells": [
  {
   "cell_type": "code",
   "execution_count": 14,
   "metadata": {},
   "outputs": [
    {
     "name": "stdout",
     "output_type": "stream",
     "text": [
      "6\n",
      "132\n"
     ]
    }
   ],
   "source": [
    "from math import factorial\n",
    "def solve(n):\n",
    "    if(n==0):\n",
    "        return(1)\n",
    "    if(n==1):\n",
    "        return(1)\n",
    "    arr=[0]*(n+1)\n",
    "    arr[0]=arr[1]=1\n",
    "    for i in range(2,n+1):\n",
    "        for j in range(i):\n",
    "            \n",
    "            arr[i]+=arr[j]*arr[i-j-1]\n",
    "    print(arr[n])\n",
    "\n",
    "n=int(input())\n",
    "solve(n)"
   ]
  },
  {
   "cell_type": "code",
   "execution_count": null,
   "metadata": {},
   "outputs": [],
   "source": []
  }
 ],
 "metadata": {
  "kernelspec": {
   "display_name": "Python 3",
   "language": "python",
   "name": "python3"
  },
  "language_info": {
   "codemirror_mode": {
    "name": "ipython",
    "version": 3
   },
   "file_extension": ".py",
   "mimetype": "text/x-python",
   "name": "python",
   "nbconvert_exporter": "python",
   "pygments_lexer": "ipython3",
   "version": "3.7.4"
  }
 },
 "nbformat": 4,
 "nbformat_minor": 2
}
