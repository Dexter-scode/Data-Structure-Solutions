{
 "cells": [
  {
   "cell_type": "code",
   "execution_count": 14,
   "metadata": {},
   "outputs": [
    {
     "name": "stdout",
     "output_type": "stream",
     "text": [
      "10 12 20 35 46\n",
      "34 8 50 21 16\n",
      "[[ 34  50 176 184 232]\n",
      " [  0   8 108 108 156]\n",
      " [  0   0  50  92 140]\n",
      " [  0   0   0  21  53]\n",
      " [  0   0   0   0  16]]\n"
     ]
    }
   ],
   "source": [
    "brr=list(map(int,input().split()))\n",
    "cost=list(map(int,input().split()))\n",
    "arr=[[0 for i in range(len(brr))] for i in range(len(brr))]\n",
    "for gap in range(len(brr)):\n",
    "    for i in range(len(brr)-gap):\n",
    "        j=i+gap\n",
    "        if(i==j):\n",
    "            arr[i][j]=cost[i]\n",
    "        else:\n",
    "            arr[i][j]=float(\"inf\")\n",
    "        summ=sum(cost[i:j+1])\n",
    "        for k in range(i,j):\n",
    "            if(k==i):\n",
    "                temp=summ+arr[i+1][j]\n",
    "            elif(k==j):\n",
    "                temp=summ+arr[i][j-1]\n",
    "            else:\n",
    "                temp=summ+arr[k+1][j]+arr[i][k-1]\n",
    "            if(temp<arr[i][j]):\n",
    "                arr[i][j]=temp\n",
    "print(numpy.array(arr))\n",
    "            "
   ]
  },
  {
   "cell_type": "code",
   "execution_count": null,
   "metadata": {},
   "outputs": [],
   "source": []
  }
 ],
 "metadata": {
  "kernelspec": {
   "display_name": "Python 3",
   "language": "python",
   "name": "python3"
  },
  "language_info": {
   "codemirror_mode": {
    "name": "ipython",
    "version": 3
   },
   "file_extension": ".py",
   "mimetype": "text/x-python",
   "name": "python",
   "nbconvert_exporter": "python",
   "pygments_lexer": "ipython3",
   "version": "3.7.4"
  }
 },
 "nbformat": 4,
 "nbformat_minor": 2
}
