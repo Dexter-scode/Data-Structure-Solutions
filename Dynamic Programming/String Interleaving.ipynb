{
 "cells": [
  {
   "cell_type": "code",
   "execution_count": 36,
   "metadata": {},
   "outputs": [
    {
     "name": "stdout",
     "output_type": "stream",
     "text": [
      "eUZCHhXr0SQsCgsB4O3B6TCWCDlAitYIHE7k6H3z8zrphz5EEBlIIAHqSWIY24D\n",
      "ZCHhXr0SQsCgsB4O3B6TCWCDlAitYIHE7k6H3z8zrphz5EEBlIIAHqSWIY24D\n",
      "CHhXr0SQsCgsB4O3B6TCWCDlAitYIHE7k6H3z8zrphz5EEBlIIAHqSWIY24D\n",
      "HhXr0SQsCgsB4O3B6TCWCDlAitYIHE7k6H3z8zrphz5EEBlIIAHqSWIY24D\n",
      "Xr0SQsCgsB4O3B6TCWCDlAitYIHE7k6H3z8zrphz5EEBlIIAHqSWIY24D\n",
      "r0SQsCgsB4O3B6TCWCDlAitYIHE7k6H3z8zrphz5EEBlIIAHqSWIY24D\n",
      "0SQsCgsB4O3B6TCWCDlAitYIHE7k6H3z8zrphz5EEBlIIAHqSWIY24D\n",
      "QsCgsB4O3B6TCWCDlAitYIHE7k6H3z8zrphz5EEBlIIAHqSWIY24D\n",
      "sCgsB4O3B6TCWCDlAitYIHE7k6H3z8zrphz5EEBlIIAHqSWIY24D\n",
      "CgsB4O3B6TCWCDlAitYIHE7k6H3z8zrphz5EEBlIIAHqSWIY24D\n",
      "gsB4O3B6TCWCDlAitYIHE7k6H3z8zrphz5EEBlIIAHqSWIY24D\n",
      "sB4O3B6TCWCDlAitYIHE7k6H3z8zrphz5EEBlIIAHqSWIY24D\n",
      "4O3B6TCWCDlAitYIHE7k6H3z8zrphz5EEBlIIAHqSWIY24D\n"
     ]
    },
    {
     "data": {
      "text/plain": [
       "0"
      ]
     },
     "execution_count": 36,
     "metadata": {},
     "output_type": "execute_result"
    }
   ],
   "source": [
    "def solve(s1,s2,A):\n",
    "    m=len(s1)+len(s2)\n",
    "    n=len(A)\n",
    "    if(m!=n):\n",
    "        return(\"hehe\")\n",
    "    i=0\n",
    "    while(len(A)>0 and len(s1)>0 and len(s2)>0):\n",
    "        print(A)\n",
    "        if(A[i]!=s1[i] and A[i]!=s2[i]):\n",
    "            return(0)\n",
    "        if(len(s1)>0 and A[i]==s1[i]):\n",
    "            A=A[1:]\n",
    "            s1=s1[1:]\n",
    "        if(len(s2)>0 and A[i]==s2[i]):\n",
    "            A=A[1:]\n",
    "            s2=s2[1:]\n",
    "    while(len(s1) and len(A)):\n",
    "        if(len(s1)>0 and A[i]==s1[i]):\n",
    "            A=A[1:]\n",
    "            s1=s1[1:]\n",
    "        else:\n",
    "            return(0)\n",
    "    while(len(s2) and len(A)):\n",
    "        if(len(s2)>0 and A[i]==s2[i]):\n",
    "            A=A[1:]\n",
    "            s2=s2[1:]\n",
    "        else:\n",
    "            return(0)\n",
    "    return(1)\n",
    "\n",
    "s1=\"eZCHXr0CgsB4O3TCDlitYI7kH38rEElI\"\n",
    "s2=\"UhSQsB6CWAHE6zzphz5BIAHqSWIY24D\"\n",
    "A=\"eUZCHhXr0SQsCgsB4O3B6TCWCDlAitYIHE7k6H3z8zrphz5EEBlIIAHqSWIY24D\"\n",
    "solve(s1,s2,A)"
   ]
  },
  {
   "cell_type": "code",
   "execution_count": null,
   "metadata": {},
   "outputs": [],
   "source": []
  }
 ],
 "metadata": {
  "kernelspec": {
   "display_name": "Python 3",
   "language": "python",
   "name": "python3"
  },
  "language_info": {
   "codemirror_mode": {
    "name": "ipython",
    "version": 3
   },
   "file_extension": ".py",
   "mimetype": "text/x-python",
   "name": "python",
   "nbconvert_exporter": "python",
   "pygments_lexer": "ipython3",
   "version": "3.7.4"
  }
 },
 "nbformat": 4,
 "nbformat_minor": 2
}
