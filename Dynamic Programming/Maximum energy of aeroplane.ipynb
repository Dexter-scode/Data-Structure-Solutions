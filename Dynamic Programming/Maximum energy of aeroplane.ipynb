{
 "cells": [
  {
   "cell_type": "code",
   "execution_count": 2,
   "metadata": {},
   "outputs": [],
   "source": [
    "def fighter():\n",
    "    energy=0\n",
    "    space=[[1,0,2,1,0],[0,1,1,2,0],[1,2,2,1,0],[1,2,1,0,0],[0,0,0,0,0]]\n",
    "    pos=(4,2)\n",
    "    print(\"enter up to move up , dl to move top left ,dr to move top right\")\n",
    "    while(True):\n",
    "        for i in space:\n",
    "            print(i)\n",
    "        move=input(\"your move\")\n",
    "        if move==\"up\":\n",
    "            pos=(pos[0]-1,pos[1])\n",
    "            if space[pos[0]][pos[1]]==1:\n",
    "                energy+=1\n",
    "            elif space[pos[0]][pos[1]]==2:\n",
    "                energy-=2\n",
    "        if move==\"dl\":\n",
    "            pos=(pos[0]-1,pos[1]-1)\n",
    "            if space[pos[0]][pos[1]]==1:\n",
    "                energy+=1\n",
    "            elif space[pos[0]][pos[1]]==2:\n",
    "                energy-=2\n",
    "        if move==\"dr\":\n",
    "            pos=(pos[0]-1,pos[1]+1)\n",
    "            if space[pos[0]][pos[1]]==1:\n",
    "                energy+=1\n",
    "            elif space[pos[0]][pos[1]]==2:\n",
    "                energy-=2\n",
    "        if energy<0:\n",
    "            print(\"no energy, you lose\")\n",
    "            sys.exit()\n",
    "        if pos[0]==0:\n",
    "            print(\" end of game your points are\"+str(energy))\n",
    "            sys.exit()"
   ]
  },
  {
   "cell_type": "code",
   "execution_count": null,
   "metadata": {},
   "outputs": [],
   "source": []
  }
 ],
 "metadata": {
  "kernelspec": {
   "display_name": "Python 3",
   "language": "python",
   "name": "python3"
  },
  "language_info": {
   "codemirror_mode": {
    "name": "ipython",
    "version": 3
   },
   "file_extension": ".py",
   "mimetype": "text/x-python",
   "name": "python",
   "nbconvert_exporter": "python",
   "pygments_lexer": "ipython3",
   "version": "3.7.4"
  }
 },
 "nbformat": 4,
 "nbformat_minor": 2
}
