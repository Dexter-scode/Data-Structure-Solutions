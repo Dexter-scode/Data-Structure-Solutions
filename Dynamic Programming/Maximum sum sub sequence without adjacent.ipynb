{
 "cells": [
  {
   "cell_type": "code",
   "execution_count": 9,
   "metadata": {},
   "outputs": [
    {
     "name": "stdout",
     "output_type": "stream",
     "text": [
      "127\n"
     ]
    }
   ],
   "source": [
    "def solve(A):\n",
    "    inc=A[0]\n",
    "    exc=0\n",
    "    for i in range(1,len(A)):\n",
    "        new_inc=max(inc,exc+A[i])\n",
    "        if(new_inc!=inc and A[i-1]==inc-exc):\n",
    "                ele.append(A[i])\n",
    "        exc=inc\n",
    "        inc=new_inc\n",
    "    return(inc)\n",
    "\n",
    "A=[37, 59, 21, 68]\n",
    "print(solve(A))"
   ]
  },
  {
   "cell_type": "code",
   "execution_count": null,
   "metadata": {},
   "outputs": [],
   "source": []
  }
 ],
 "metadata": {
  "kernelspec": {
   "display_name": "Python 3",
   "language": "python",
   "name": "python3"
  },
  "language_info": {
   "codemirror_mode": {
    "name": "ipython",
    "version": 3
   },
   "file_extension": ".py",
   "mimetype": "text/x-python",
   "name": "python",
   "nbconvert_exporter": "python",
   "pygments_lexer": "ipython3",
   "version": "3.7.4"
  }
 },
 "nbformat": 4,
 "nbformat_minor": 2
}
