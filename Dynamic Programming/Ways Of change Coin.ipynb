{
 "cells": [
  {
   "cell_type": "code",
   "execution_count": 8,
   "metadata": {},
   "outputs": [
    {
     "name": "stdout",
     "output_type": "stream",
     "text": [
      "11\n"
     ]
    }
   ],
   "source": [
    "n=10\n",
    "brr=[1,2,5,10]\n",
    "arr=[[1 for i in range(n+1)] for i in range(len(brr))]\n",
    "for i in range(1,len(brr)):\n",
    "    for j in range(1,n+1):\n",
    "        if(brr[i]>j):\n",
    "            arr[i][j]=arr[i-1][j]\n",
    "        else:\n",
    "            arr[i][j]=arr[i-1][j]+arr[i][j-brr[i]]\n",
    "print(arr[i][j])"
   ]
  },
  {
   "cell_type": "code",
   "execution_count": null,
   "metadata": {},
   "outputs": [],
   "source": []
  }
 ],
 "metadata": {
  "kernelspec": {
   "display_name": "Python 3",
   "language": "python",
   "name": "python3"
  },
  "language_info": {
   "codemirror_mode": {
    "name": "ipython",
    "version": 3
   },
   "file_extension": ".py",
   "mimetype": "text/x-python",
   "name": "python",
   "nbconvert_exporter": "python",
   "pygments_lexer": "ipython3",
   "version": "3.7.4"
  }
 },
 "nbformat": 4,
 "nbformat_minor": 2
}
