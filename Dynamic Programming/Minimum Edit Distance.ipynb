{
 "cells": [
  {
   "cell_type": "code",
   "execution_count": 14,
   "metadata": {},
   "outputs": [
    {
     "name": "stdout",
     "output_type": "stream",
     "text": [
      "abcdef\n",
      "azced\n",
      "[[0 1 2 3 4 5 6]\n",
      " [1 0 1 2 3 4 5]\n",
      " [2 1 1 2 3 4 5]\n",
      " [3 2 2 1 2 3 4]\n",
      " [4 3 3 2 2 2 3]\n",
      " [5 4 4 3 2 3 3]]\n",
      "['f', 'b']\n"
     ]
    }
   ],
   "source": [
    "import numpy\n",
    "a=input()\n",
    "b=input()\n",
    "arr=[[0 for i in range(len(a)+1)] for j in range(len(b)+1)]\n",
    "for i in range(len(a)+1):\n",
    "    arr[0][i]=i\n",
    "for j in range(1,len(b)+1):\n",
    "    arr[j][0]=j\n",
    "for i in range(1,len(b)+1):\n",
    "    for j in range(1,len(a)+1):\n",
    "        if(b[i-1]==a[j-1]):\n",
    "            arr[i][j]=arr[i-1][j-1]\n",
    "        else:\n",
    "            arr[i][j]=min(arr[i][j-1],arr[i-1][j],arr[i-1][j-1])+1\n",
    "print(numpy.array(arr))\n",
    "ans=[]\n",
    "while(i!=0 and j!=0):\n",
    "    if(arr[i][j]==arr[i-1][j-1]+1):\n",
    "        ans.append(a[j-1])\n",
    "        i-=1\n",
    "        j-=1\n",
    "    else:\n",
    "        mn=min(arr[i-1][j],arr[i][j-1])\n",
    "        if(mn==arr[i-1][j-1]):\n",
    "            i-=1\n",
    "        else:\n",
    "            j-=1\n",
    "print(ans)"
   ]
  },
  {
   "cell_type": "code",
   "execution_count": null,
   "metadata": {},
   "outputs": [],
   "source": []
  }
 ],
 "metadata": {
  "kernelspec": {
   "display_name": "Python 3",
   "language": "python",
   "name": "python3"
  },
  "language_info": {
   "codemirror_mode": {
    "name": "ipython",
    "version": 3
   },
   "file_extension": ".py",
   "mimetype": "text/x-python",
   "name": "python",
   "nbconvert_exporter": "python",
   "pygments_lexer": "ipython3",
   "version": "3.7.4"
  }
 },
 "nbformat": 4,
 "nbformat_minor": 2
}
