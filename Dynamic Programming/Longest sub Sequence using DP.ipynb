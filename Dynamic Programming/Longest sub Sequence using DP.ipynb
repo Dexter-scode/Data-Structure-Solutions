{
 "cells": [
  {
   "cell_type": "code",
   "execution_count": 21,
   "metadata": {},
   "outputs": [
    {
     "name": "stdout",
     "output_type": "stream",
     "text": [
      "abcdefklmnopqrwxyz\n",
      "abcfghinopqvwxyz\n"
     ]
    }
   ],
   "source": [
    "a=input()\n",
    "b=input()"
   ]
  },
  {
   "cell_type": "code",
   "execution_count": 22,
   "metadata": {},
   "outputs": [
    {
     "name": "stdout",
     "output_type": "stream",
     "text": [
      "12\n",
      "abcfnopqwxyz\n"
     ]
    }
   ],
   "source": [
    "arr=[[0 for i in range(len(a)+1)] for i in range(len(b)+1)]\n",
    "for j in range(1,len(a)+1):\n",
    "    for i in range(1,len(b)+1):\n",
    "        if(a[j-1]==b[i-1]):\n",
    "            arr[i][j]=1+arr[i-1][j-1]\n",
    "        else:\n",
    "            arr[i][j]=max(arr[i-1][j],arr[i][j-1])\n",
    "print(arr[i][j])\n",
    "ans=\"\"\n",
    "while(i!=0 and j!=0):\n",
    "    if(arr[i][j]==arr[i][j-1]+1 and arr[i][j]==arr[i-1][j-1]+1 and arr[i][j]==arr[i-1][j]+1):\n",
    "        ans+=a[j-1]\n",
    "        i-=1\n",
    "        j-=1\n",
    "    elif(arr[i][j]==arr[i][j-1]):\n",
    "        j-=1\n",
    "    else:\n",
    "        i-=1\n",
    "print(ans[::-1])\n",
    "        "
   ]
  },
  {
   "cell_type": "code",
   "execution_count": null,
   "metadata": {},
   "outputs": [],
   "source": []
  }
 ],
 "metadata": {
  "kernelspec": {
   "display_name": "Python 3",
   "language": "python",
   "name": "python3"
  },
  "language_info": {
   "codemirror_mode": {
    "name": "ipython",
    "version": 3
   },
   "file_extension": ".py",
   "mimetype": "text/x-python",
   "name": "python",
   "nbconvert_exporter": "python",
   "pygments_lexer": "ipython3",
   "version": "3.7.4"
  }
 },
 "nbformat": 4,
 "nbformat_minor": 2
}
