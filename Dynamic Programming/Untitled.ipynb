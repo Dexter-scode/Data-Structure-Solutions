{
 "cells": [
  {
   "cell_type": "code",
   "execution_count": 18,
   "metadata": {},
   "outputs": [
    {
     "name": "stdout",
     "output_type": "stream",
     "text": [
      "0\n"
     ]
    }
   ],
   "source": [
    "def solve(A,B):\n",
    "    if(A==\"\"):\n",
    "        return(True)\n",
    "    for i in range(len(A)+1):\n",
    "        if(A[:i] in B):\n",
    "            if(solve(A[i:],B)):\n",
    "                return(True)\n",
    "    return(False)        \n",
    "\n",
    "def wordBreak( A, B):\n",
    "    B=set(B)\n",
    "    if(solve(A,B)):\n",
    "        return(1)\n",
    "    return(0)\n",
    "\n",
    "A=\"babbbbaabbaabaabaabaaabaababaaaabbbbbabbaabbabbbbababaabbabbbabbbaaabaababaaaababbbbabbbbbbaaaabaaabaabbbaaaabaaabbbaabababbbaaaabbabbbabaaabbbabaaabbbaaaaaabaabbabbaabbbbbaababbbbabbabbaabbbabaababaaaabbaabbbaabaabbbbbbaabbbaaaabbaaaaaabaabbaababbbabbbbbbaabbaabbbabbbaabbbaaaabbbaaaabbbabbaababaaabbababbaabbabbabaabbbbaaaabbaababababbbbbabbbbabbaaabbaabaaaaabbaaaaaaaaaaababaaabbbaababbbbbbbabbababbaabbaaaababbbabbaaabbbbbabbbaabbaaaaabbbbbbabbbbbabbabbbabbabbababbabaabaabbabababbababaababbaababbabaabbaaaabbbaa\"\n",
    "B=[ \"bbba\", \"aaaa\", \"abaa\", \"aba\", \"aabaaa\", \"baabbaab\", \"bbbabbbaaa\", \"abaabbbbba\", \"abaa\", \"aba\", \"bbabbbbabb\", \"aab\", \"baaabbbaaa\", \"b\", \"baba\", \"aaba\", \"baaba\", \"abb\", \"aaaa\", \"baaabbbaa\", \"ab\" ]\n",
    "print(wordBreak(A,B))"
   ]
  },
  {
   "cell_type": "code",
   "execution_count": null,
   "metadata": {},
   "outputs": [],
   "source": []
  }
 ],
 "metadata": {
  "kernelspec": {
   "display_name": "Python 3",
   "language": "python",
   "name": "python3"
  },
  "language_info": {
   "codemirror_mode": {
    "name": "ipython",
    "version": 3
   },
   "file_extension": ".py",
   "mimetype": "text/x-python",
   "name": "python",
   "nbconvert_exporter": "python",
   "pygments_lexer": "ipython3",
   "version": "3.7.4"
  }
 },
 "nbformat": 4,
 "nbformat_minor": 2
}
