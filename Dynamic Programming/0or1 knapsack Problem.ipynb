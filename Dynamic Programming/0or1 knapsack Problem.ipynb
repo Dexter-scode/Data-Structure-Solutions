{
 "cells": [
  {
   "cell_type": "code",
   "execution_count": 5,
   "metadata": {},
   "outputs": [
    {
     "name": "stdout",
     "output_type": "stream",
     "text": [
      "9\n",
      "{4: 5, 3: 4}\n"
     ]
    }
   ],
   "source": [
    "n=7\n",
    "d={}\n",
    "d[1]=1\n",
    "d[3]=4\n",
    "d[4]=5\n",
    "d[5]=7\n",
    "arr=[[0 for i in range(n+1) ]for i in range(len(d))]\n",
    "l=[]\n",
    "for x,y in d.items():\n",
    "    l.append(x)\n",
    "for i in range(len(d)):\n",
    "    for j in range(1,n+1):\n",
    "        if(l[0]<=j and i==0):\n",
    "            arr[0][j]=d[l[0]]\n",
    "        elif(l[i]<=j and i>0):\n",
    "            arr[i][j]=max((d[l[i]]+arr[i-1][j-l[i]]),arr[i-1][j])## max of if we choose the number or not \n",
    "        else:\n",
    "            arr[i][j]=arr[i-1][j]\n",
    "print(arr[i][j])\n",
    "ans={}\n",
    "while(i!=0 and j!=0):\n",
    "    if(arr[i][j]!=arr[i-1][j]):\n",
    "        ans[l[i]]=d[l[i]]\n",
    "        j-=l[i]\n",
    "    i-=1\n",
    "print(ans)\n",
    "\n",
    "        "
   ]
  },
  {
   "cell_type": "code",
   "execution_count": null,
   "metadata": {},
   "outputs": [],
   "source": []
  }
 ],
 "metadata": {
  "kernelspec": {
   "display_name": "Python 3",
   "language": "python",
   "name": "python3"
  },
  "language_info": {
   "codemirror_mode": {
    "name": "ipython",
    "version": 3
   },
   "file_extension": ".py",
   "mimetype": "text/x-python",
   "name": "python",
   "nbconvert_exporter": "python",
   "pygments_lexer": "ipython3",
   "version": "3.7.4"
  }
 },
 "nbformat": 4,
 "nbformat_minor": 2
}
