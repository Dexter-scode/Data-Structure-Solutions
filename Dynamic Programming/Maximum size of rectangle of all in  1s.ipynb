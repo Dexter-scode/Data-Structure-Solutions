{
 "cells": [
  {
   "cell_type": "code",
   "execution_count": 16,
   "metadata": {},
   "outputs": [
    {
     "name": "stdout",
     "output_type": "stream",
     "text": [
      "8\n"
     ]
    }
   ],
   "source": [
    "def ans(arr):\n",
    "    mx_area=0\n",
    "    n=len(arr)\n",
    "    stack=[]\n",
    "    i=0\n",
    "    while(i<len(arr)):\n",
    "        if(len(stack)==0 or arr[i]>arr[stack[-1]]):\n",
    "            stack.append(i)\n",
    "            i+=1\n",
    "        else:\n",
    "            top=stack.pop()\n",
    "            val=arr[top]\n",
    "            if(len(stack)==0):\n",
    "                area=val*i\n",
    "            else:\n",
    "                area=val*(i-stack[-1]-1)\n",
    "            mx_area=max(mx_area,area)\n",
    "    while(len(stack)>0):\n",
    "        top=stack.pop()\n",
    "        val=arr[top]\n",
    "        if(len(stack)==0):\n",
    "            area=val*i\n",
    "        else:\n",
    "            area=val*(i-stack[-1]-1)\n",
    "        mx_area=max(mx_area,area)\n",
    "    return(mx_area)\n",
    "\n",
    "def solu(arr):\n",
    "    mx=0\n",
    "    n=len(arr)\n",
    "    m=len(arr[0])\n",
    "    brr=[0]*m\n",
    "    for i in range(n):\n",
    "        for j in range(m):\n",
    "            if(arr[i][j]!=0):\n",
    "                brr[j]+=1\n",
    "            else:\n",
    "                brr[j]=0\n",
    "        area=ans(brr)\n",
    "        if(area>mx):\n",
    "            mx=area\n",
    "    return(mx)\n",
    "\n",
    "arr=[[1,0,0,1,1,1],[1,0,1,1,0,1],[0,1,1,1,1,1],[0,0,1,1,1,1]]\n",
    "print(solu(arr))"
   ]
  },
  {
   "cell_type": "code",
   "execution_count": null,
   "metadata": {},
   "outputs": [],
   "source": []
  }
 ],
 "metadata": {
  "kernelspec": {
   "display_name": "Python 3",
   "language": "python",
   "name": "python3"
  },
  "language_info": {
   "codemirror_mode": {
    "name": "ipython",
    "version": 3
   },
   "file_extension": ".py",
   "mimetype": "text/x-python",
   "name": "python",
   "nbconvert_exporter": "python",
   "pygments_lexer": "ipython3",
   "version": "3.7.4"
  }
 },
 "nbformat": 4,
 "nbformat_minor": 2
}
