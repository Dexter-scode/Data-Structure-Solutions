{
 "cells": [
  {
   "cell_type": "code",
   "execution_count": 21,
   "metadata": {},
   "outputs": [
    {
     "name": "stdout",
     "output_type": "stream",
     "text": [
      "[[0, 0, 0, 0, 0, 0], [0, 5, 6, 6, 6, 18], [0, 5, 6, 6, 9, 22]]\n"
     ]
    }
   ],
   "source": [
    "def maxProfit(price):\n",
    "    k=2\n",
    "    n=len(price)\n",
    "    profit = [[0 for i in range(n)]  \n",
    "             for j in range(k + 1)]  \n",
    "    for i in range(1, k + 1):  \n",
    "        prevDiff = float('-inf') \n",
    "\n",
    "        for j in range(1, n):  \n",
    "            prevDiff = max(prevDiff, \n",
    "                           profit[i - 1][j - 1] - \n",
    "                           price[j - 1])  \n",
    "            profit[i][j] = max(profit[i][j - 1],  \n",
    "                               price[j] + prevDiff)  \n",
    "\n",
    "    return profit\n",
    "A = [2, 7, 8, 4, 7,20]\n",
    "print(maxProfit(A))"
   ]
  },
  {
   "cell_type": "code",
   "execution_count": null,
   "metadata": {},
   "outputs": [],
   "source": []
  }
 ],
 "metadata": {
  "kernelspec": {
   "display_name": "Python 3",
   "language": "python",
   "name": "python3"
  },
  "language_info": {
   "codemirror_mode": {
    "name": "ipython",
    "version": 3
   },
   "file_extension": ".py",
   "mimetype": "text/x-python",
   "name": "python",
   "nbconvert_exporter": "python",
   "pygments_lexer": "ipython3",
   "version": "3.7.4"
  }
 },
 "nbformat": 4,
 "nbformat_minor": 2
}
