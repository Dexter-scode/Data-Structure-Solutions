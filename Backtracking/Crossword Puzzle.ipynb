{
 "cells": [
  {
   "cell_type": "code",
   "execution_count": 1,
   "metadata": {},
   "outputs": [
    {
     "name": "stdout",
     "output_type": "stream",
     "text": [
      "+-++++++++\n",
      "+-++++++++\n",
      "+-++++++++\n",
      "+-----++++\n",
      "+-+++-++++\n",
      "+-+++-++++\n",
      "+++++-++++\n",
      "++------++\n",
      "+++++-++++\n",
      "+++++-++++\n",
      "LONDON;DELHI;ICELAND;ANKARA\n"
     ]
    }
   ],
   "source": [
    "crossword = []\n",
    "\n",
    "for _ in range(10):\n",
    "    crossword_item = list(input())\n",
    "    crossword.append(crossword_item)\n",
    "\n",
    "words = list(input().split(\";\"))\n",
    "\n"
   ]
  },
  {
   "cell_type": "code",
   "execution_count": 15,
   "metadata": {},
   "outputs": [
    {
     "name": "stdout",
     "output_type": "stream",
     "text": [
      "[['+' 'L' '+' '+' '+' '+' '+' '+' '+' '+']\n",
      " ['+' 'O' '+' '+' '+' '+' '+' '+' '+' '+']\n",
      " ['+' 'N' '+' '+' '+' '+' '+' '+' '+' '+']\n",
      " ['+' 'D' 'D' 'E' 'L' 'H' 'I' '+' '+' '+']\n",
      " ['+' 'O' '+' '+' '+' 'I' '+' '+' '+' '+']\n",
      " ['+' 'N' '+' '+' '+' 'C' '+' '+' '+' '+']\n",
      " ['+' '+' '+' '+' '+' 'E' '+' '+' '+' '+']\n",
      " ['+' '+' 'L' 'O' 'N' 'D' 'O' 'N' '+' '+']\n",
      " ['+' '+' '+' '+' '+' 'A' '+' '+' '+' '+']\n",
      " ['+' '+' '+' '+' '+' 'N' '+' '+' '+' '+']]\n"
     ]
    }
   ],
   "source": [
    "import numpy\n",
    "def safe(A,x,y,word):\n",
    "    if(x<len(A) and y<len(A[0]) and (A[x][y]==\"-\" or A[x][y]==word[0])):\n",
    "        return(True)\n",
    "    return(False)\n",
    "def fill(A,word,x,y):\n",
    "    if(safe(A,x+1,y,word)):\n",
    "        for i in range(len(word)):\n",
    "            A[x+i][y]=word[i]\n",
    "    elif(safe(A,x,y+1,word)):\n",
    "        for i in range(len(word)):\n",
    "            A[x][y+i]=word[i]\n",
    "    return()\n",
    "def fillword(A,word):\n",
    "    for i in range(len(A)):\n",
    "        for j in range(len(A[i])):\n",
    "            if(A[i][j]==\"-\"):\n",
    "                fill(A,word,i,j)\n",
    "                return()\n",
    "def crosswordPuzzle(crossword, words):\n",
    "    for i in words:\n",
    "        fillword(crossword,i)\n",
    "    return(crossword)\n",
    "result = crosswordPuzzle(crossword, words)\n",
    "print(numpy.array(result))\n",
    "\n",
    "        "
   ]
  },
  {
   "cell_type": "code",
   "execution_count": null,
   "metadata": {},
   "outputs": [],
   "source": [
    "+-++++++++\n",
    "+-++++++++\n",
    "+-++++++++\n",
    "+-----++++\n",
    "+-+++-++++\n",
    "+-+++-++++\n",
    "+++++-++++\n",
    "++------++\n",
    "+++++-++++\n",
    "+++++-++++\n",
    "LONDON;DELHI;ICELAND;ANKARA"
   ]
  }
 ],
 "metadata": {
  "kernelspec": {
   "display_name": "Python 3",
   "language": "python",
   "name": "python3"
  },
  "language_info": {
   "codemirror_mode": {
    "name": "ipython",
    "version": 3
   },
   "file_extension": ".py",
   "mimetype": "text/x-python",
   "name": "python",
   "nbconvert_exporter": "python",
   "pygments_lexer": "ipython3",
   "version": "3.7.7"
  }
 },
 "nbformat": 4,
 "nbformat_minor": 4
}
