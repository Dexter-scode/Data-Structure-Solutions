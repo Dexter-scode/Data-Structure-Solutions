{
 "cells": [
  {
   "cell_type": "code",
   "execution_count": 18,
   "metadata": {},
   "outputs": [
    {
     "name": "stdout",
     "output_type": "stream",
     "text": [
      "5\n",
      "25\n"
     ]
    }
   ],
   "source": [
    "\n",
    "def main(n):\n",
    "    arr=[]\n",
    "    for i in range(n):\n",
    "        arr.append([-1]*n)\n",
    "    mx=[2,1,-1,-2,-2,-1,1,2]\n",
    "    my=[1,2,2,1,-1,-2,-2,-1]\n",
    "    arr[0][0]=0\n",
    "    count=1\n",
    "    return(solve(arr,0,0,mx,my,count,0))\n",
    "    \n",
    "\n",
    "        \n",
    "def solve(arr,x,y,mx,my,count,mm):\n",
    "    mm=max(mm,count)\n",
    "    if(count==len(arr)**2):\n",
    "        return(mm)\n",
    "    for i in range(8):\n",
    "        nx=x+mx[i]\n",
    "        ny=y+my[i]\n",
    "        if(safe(arr,nx,ny,count)):\n",
    "            arr[nx][ny]=count\n",
    "            mm=max(mm,solve(arr,nx,ny,mx,my,count+1,mm))\n",
    "            arr[nx][ny]=-1\n",
    "    return(mm)\n",
    "def safe(arr,x,y,count):\n",
    "    if(x<len(arr) and y<len(arr) and x>=0 and y>=0 and arr[x][y]==-1 ):\n",
    "        return(True)\n",
    "    return(False)\n",
    "a=int(input())\n",
    "print(main(a))"
   ]
  },
  {
   "cell_type": "code",
   "execution_count": null,
   "metadata": {},
   "outputs": [],
   "source": []
  },
  {
   "cell_type": "code",
   "execution_count": null,
   "metadata": {},
   "outputs": [],
   "source": []
  }
 ],
 "metadata": {
  "kernelspec": {
   "display_name": "Python 3",
   "language": "python",
   "name": "python3"
  },
  "language_info": {
   "codemirror_mode": {
    "name": "ipython",
    "version": 3
   },
   "file_extension": ".py",
   "mimetype": "text/x-python",
   "name": "python",
   "nbconvert_exporter": "python",
   "pygments_lexer": "ipython3",
   "version": "3.7.7"
  }
 },
 "nbformat": 4,
 "nbformat_minor": 4
}
